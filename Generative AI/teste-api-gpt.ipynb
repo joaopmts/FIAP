{
 "cells": [
  {
   "cell_type": "code",
   "execution_count": null,
   "id": "446587e2",
   "metadata": {},
   "outputs": [],
   "source": [
    "import pandas as pd\n",
    "from langchain_openai import ChatOpenAI\n",
    "from langchain_core.prompts import ChatPromptTemplate\n",
    "from langchain_core.output_parsers import StrOutputParser\n",
    "import json\n",
    "from pydantic import BaseModel\n",
    "from pydantic import TypeAdapter\n",
    "from langchain_core.runnables import RunnableLambda"
   ]
  },
  {
   "cell_type": "code",
   "execution_count": null,
   "id": "c72d12cc",
   "metadata": {},
   "outputs": [],
   "source": [
    "api_key = \"\"\n",
    "\n",
    "llm = ChatOpenAI(\n",
    "    model=\"gpt-4.1-mini\",\n",
    "    api_key=api_key,\n",
    "    temperature=0,\n",
    ")"
   ]
  },
  {
   "cell_type": "code",
   "execution_count": null,
   "id": "e87525ea",
   "metadata": {},
   "outputs": [],
   "source": [
    "prompt = ChatPromptTemplate.from_messages([\n",
    "    (\"system\", \"Você é um assistente técnico e objetivo.\"),\n",
    "    (\"human\", \"Explique o que é LangChain em 3 tópicos.\"),\n",
    "])\n",
    "\n",
    "parser = StrOutputParser()\n",
    "\n",
    "chain = prompt | llm | parser\n",
    "\n",
    "response = chain.invoke({})\n",
    "print(response)"
   ]
  },
  {
   "cell_type": "code",
   "execution_count": null,
   "id": "f0e51d3d",
   "metadata": {},
   "outputs": [],
   "source": [
    "df = pd.read_excel(\"assets/base_itens.xlsx\")\n",
    "df_raw = df.copy()\n",
    "df = df[['id_item', 'title_item', 'description_item']]\n",
    "df['texto'] = df['title_item'] + '-' + df['description_item']\n",
    "df.drop(columns=['title_item','description_item'], inplace=True)\n",
    "df.head()"
   ]
  },
  {
   "cell_type": "code",
   "execution_count": null,
   "id": "cfefbe6b",
   "metadata": {},
   "outputs": [],
   "source": [
    "SYSTEM = \"\"\"\n",
    "Você é um validador de políticas do iAutos.\n",
    "\n",
    "Políticas:\n",
    "- 3.1 Permitidos: automóveis (sedan, hatch, SUV, picape, minivan), van, furgão, micro-ônibus/ônibus, moto, triciclo, quadriciclo; utilitário, caminhão, camioneta.\n",
    "- 3.2 PROIBIDOS: ambulância, funerário, guindaste, veículos de competição (kart, corrida, motocross), tratores, bicicletas, reboques, semirreboques, charretes, carroças, bondes, ciclomotores (≤50cc ou equivalente elétrico).\n",
    "- 3.3 Publicação: NÃO pode incluir telefone/WhatsApp, e-mail, endereços, redes sociais.\n",
    "\n",
    "Regras:\n",
    "- Use apenas o texto. Se ambíguo → Não suspeito.\n",
    "- Se citar categoria proibida (3.2) ou dados de contato (3.3) → Suspeito.\n",
    "\n",
    "Saída esperada: JSON válido, lista onde cada item tem:\n",
    "{{\n",
    "  \"id_item\": \"...\",\n",
    "  \"compflg_suspeito_genailiant\": true|false,\n",
    "  \"comentario_genai\": \"descrição1;descrição2;...\",\n",
    "  \"reasoning\": \"...\"\n",
    "}}\n",
    "\"\"\"\n",
    "\n",
    "PROMPT_ALL = ChatPromptTemplate.from_messages([\n",
    "    (\"system\", SYSTEM),\n",
    "    (\"user\", \"Classifique os seguintes anúncios (lista JSON):\\n\\n{items}\\n\\nResponda apenas com JSON válido (lista).\")\n",
    "])\n",
    "\n",
    "class ItemOut(BaseModel):\n",
    "  id_item: str\n",
    "  compflg_suspeito_genailiant: bool\n",
    "  comentario_genai: str\n",
    "  reasoning: str\n",
    "\n",
    "def df_to_records(df):\n",
    "  return df.astype(str).to_dict(orient=\"records\")\n",
    "\n",
    "def build_messages(items):\n",
    "  return PROMPT_ALL.format_messages(items=json.dumps(items, ensure_ascii=False))\n",
    "\n",
    "def validar_saida(resp_content):\n",
    "    adapter = TypeAdapter(list[ItemOut])\n",
    "    models = adapter.validate_json(resp_content)   \n",
    "    return pd.DataFrame(adapter.dump_python(models))\n",
    "\n",
    "def invoke(messages):\n",
    "  resp = llm.invoke(messages)\n",
    "  data = validar_saida(resp.content) \n",
    "  return data\n",
    "\n",
    "def submit(df):\n",
    "  records = df_to_records(df)\n",
    "  msgs = build_messages(records)\n",
    "  return invoke(msgs)\n",
    "\n",
    "result = submit(df)"
   ]
  },
  {
   "cell_type": "code",
   "execution_count": null,
   "id": "a57bc80a",
   "metadata": {},
   "outputs": [],
   "source": [
    "def make_items_injector(df):\n",
    "    records = df_to_records(df)\n",
    "    items_json = json.dumps(records, ensure_ascii=False)\n",
    "    return RunnableLambda(lambda _: {\"items\": items_json})\n",
    "\n",
    "parser = RunnableLambda(lambda text: validar_saida(text))\n",
    "\n",
    "def build_chain_for_df(df):\n",
    "    return (\n",
    "        make_items_injector(df) \n",
    "        | PROMPT_ALL\n",
    "        | llm\n",
    "        | (lambda msg: msg.content)\n",
    "        | parser\n",
    "    )\n",
    "\n",
    "chain = build_chain_for_df(df)\n",
    "response = chain.invoke({})  "
   ]
  }
 ],
 "metadata": {
  "kernelspec": {
   "display_name": "Python 3",
   "language": "python",
   "name": "python3"
  },
  "language_info": {
   "codemirror_mode": {
    "name": "ipython",
    "version": 3
   },
   "file_extension": ".py",
   "mimetype": "text/x-python",
   "name": "python",
   "nbconvert_exporter": "python",
   "pygments_lexer": "ipython3",
   "version": "3.13.7"
  }
 },
 "nbformat": 4,
 "nbformat_minor": 5
}
