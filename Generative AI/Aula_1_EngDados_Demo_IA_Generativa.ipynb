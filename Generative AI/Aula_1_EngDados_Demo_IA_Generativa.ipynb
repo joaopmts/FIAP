{
  "nbformat": 4,
  "nbformat_minor": 0,
  "metadata": {
    "colab": {
      "provenance": [],
      "toc_visible": true
    },
    "kernelspec": {
      "name": "python3",
      "display_name": "Python 3"
    },
    "language_info": {
      "name": "python"
    }
  },
  "cells": [
    {
      "cell_type": "markdown",
      "source": [
        "#**Aula 1 - Demonstração**"
      ],
      "metadata": {
        "id": "L-reqj0U7SKd"
      }
    },
    {
      "cell_type": "markdown",
      "source": [
        "**Como podemos usar a IA Generativa?**\n",
        "\n",
        "A melhor forma é tentar partir de um problema, certo?\n",
        "\n",
        "Vamos ***problematizar*** para ficar mais fácil de entender e explicar!"
      ],
      "metadata": {
        "id": "cs3K74pS-eoM"
      }
    },
    {
      "cell_type": "markdown",
      "source": [
        "## **Caso de uso - Marketplace de classificados veículos**"
      ],
      "metadata": {
        "id": "JH9bheTw-j0b"
      }
    },
    {
      "cell_type": "markdown",
      "source": [
        "Imagine que você trabalha na empresa **iAutos** que tem como produto principal um **marketplace de classificados de veículos** e você como um Engenheiro de Dados que trabalha na área de Prevenção a Fraude, tem a missão de ajudar a empresa a combater a fraude e uso indevido da plataforma.\n",
        "\n",
        "Diariamente temos casos de usuários da plataforma infringindo as políticas de uso e querendo cometer algum tipo de fraude.\n",
        "- Temos vendedores que não respeitam as políticas de uso;\n",
        "- Anúncios que não seguem as políticas de publicação;\n",
        "- Compradores querendo obter dados de contato dos vendedores para aplicar algum tipo de golpe;\n",
        "- Etc."
      ],
      "metadata": {
        "id": "HyBkZvfP-tm8"
      }
    },
    {
      "cell_type": "markdown",
      "source": [
        "##**Será que conseguimos usar a IA Generativa para ajudar a resolver esses problemas?**\n",
        "\n",
        "A resposta é **SIM**, mas antes vamos fazer o básico e entender como podemos utilizar esses serviços, ferramentas e plataformas."
      ],
      "metadata": {
        "id": "ZdAf_G8mD904"
      }
    },
    {
      "cell_type": "markdown",
      "source": [
        "###**1. ChatGPT e OpenAI Platform**"
      ],
      "metadata": {
        "id": "9DjdfOuuUPYW"
      }
    },
    {
      "cell_type": "markdown",
      "source": [
        "Configuração:\n",
        "- Crie uma conta no ChatGPT (https://chatgpt.com/) com o e-mail da FIAP.\n",
        "  - É opcional, pode usar sua conta caso já tenha, mas veja se tem crédito ou permissão em modelos free.\n",
        "- Acesse a OpenAI Platfom com seu login do ChatGPT (OpenAI Playground - https://platform.openai.com).\n",
        "  - Documentação da OpenAI Platform - https://platform.openai.com/docs/overview\n",
        "- Configure sua conta conforme Setup Técnico.\n",
        "- Gere uma chave de API para acessarmos ose serviçs da OpenAI (`OPENAI_API_KEY`)."
      ],
      "metadata": {
        "id": "7LZV20D0EW94"
      }
    },
    {
      "cell_type": "markdown",
      "source": [
        "-----\n",
        "Preencha o campo **`OPENAI_API_KEY`** com a sua API Key (chave de API) da OpenAI:"
      ],
      "metadata": {
        "id": "9HUxq7qBYgTI"
      }
    },
    {
      "cell_type": "code",
      "source": [
        "OPENAI_API_KEY = \"\" # @param {\"type\":\"string\"}"
      ],
      "metadata": {
        "id": "eHsxn1nvX7NG"
      },
      "execution_count": 4,
      "outputs": []
    },
    {
      "cell_type": "code",
      "source": [
        "# Instalação da biblioteca da OpenAI\n",
        "#!pip install openai==1.100.0 --quiet"
      ],
      "metadata": {
        "id": "ueFuSTJTa_wX"
      },
      "execution_count": 2,
      "outputs": []
    },
    {
      "cell_type": "code",
      "source": [
        "import openai\n",
        "print(openai.__version__)"
      ],
      "metadata": {
        "colab": {
          "base_uri": "https://localhost:8080/"
        },
        "id": "k_OXlxdePEpD",
        "outputId": "9a9a085c-707e-43fb-dce9-326c4aa8219e"
      },
      "execution_count": 3,
      "outputs": [
        {
          "output_type": "stream",
          "name": "stdout",
          "text": [
            "1.100.0\n"
          ]
        }
      ]
    },
    {
      "cell_type": "markdown",
      "metadata": {
        "id": "qgVmuOMBBUfW"
      },
      "source": [
        "Documentações/Referências:\n",
        "- [Arquitetura do ChatGPT da OpenAI](https://openai.com/index/chatgpt/)\n",
        "- [GitHub da OpenAI](https://github.com/openai/openai-python)\n",
        "- [Início rápido do desenvolvedor - API](https://platform.openai.com/docs/quickstart?context=python)\n",
        "- [Exemplos de uso](https://platform.openai.com/docs/api-reference/authentication)\n",
        "- [Limites e taxas da OpenAI](https://platform.openai.com/docs/guides/rate-limits/usage-tiers?context=tier-free)\n",
        "- [v1.0.0 Migration Guide](https://github.com/openai/openai-python/discussions/742)\n"
      ]
    },
    {
      "cell_type": "markdown",
      "source": [
        "####1.1 - Geração de Texto (simples)"
      ],
      "metadata": {
        "id": "aJNALRy0cYdg"
      }
    },
    {
      "cell_type": "markdown",
      "source": [
        "- Referência: https://platform.openai.com/docs/guides/text"
      ],
      "metadata": {
        "id": "BKmTIHpWXsSp"
      }
    },
    {
      "cell_type": "code",
      "source": [
        "from openai import OpenAI\n",
        "\n",
        "client = OpenAI(\n",
        "    api_key=OPENAI_API_KEY\n",
        ")\n",
        "\n",
        "response = client.responses.create(\n",
        "    model = \"gpt-4.1-mini\",\n",
        "    input = \"Quem é a OpenAI?\"\n",
        ")\n",
        "\n",
        "print(response.output_text)"
      ],
      "metadata": {
        "colab": {
          "base_uri": "https://localhost:8080/"
        },
        "id": "JOPoSQsOIyNh",
        "outputId": "e4edc71c-d5ca-49a4-f9a2-0b1dd05311c5"
      },
      "execution_count": 5,
      "outputs": [
        {
          "output_type": "stream",
          "name": "stdout",
          "text": [
            "A OpenAI é uma organização de pesquisa em inteligência artificial (IA) fundada em dezembro de 2015. Seu objetivo principal é desenvolver e promover IA de forma segura e benéfica para a humanidade. A OpenAI trabalha no avanço da tecnologia de inteligência artificial, criando modelos e sistemas que possam ser usados para uma variedade de aplicações, sempre com foco em minimizar riscos e maximizar benefícios sociais.\n",
            "\n",
            "A empresa é conhecida por desenvolver modelos de linguagem avançados, como o GPT (Generative Pre-trained Transformer), que podem gerar texto, responder a perguntas, traduzir idiomas, entre outras funções. Além dos modelos de linguagem, a OpenAI pesquisa em áreas como visão computacional, aprendizado por reforço e outras técnicas avançadas de IA.\n",
            "\n",
            "A OpenAI também tem um compromisso com a transparência e segurança no desenvolvimento da inteligência artificial, buscando colaborar com outras organizações para garantir que os avanços na área sejam usados de forma ética e responsável.\n"
          ]
        }
      ]
    },
    {
      "cell_type": "code",
      "source": [
        "response"
      ],
      "metadata": {
        "colab": {
          "base_uri": "https://localhost:8080/"
        },
        "id": "_b6Lzu4lQkhu",
        "outputId": "97d4a81b-dee6-4ada-ea58-8578dffe885e"
      },
      "execution_count": 6,
      "outputs": [
        {
          "output_type": "execute_result",
          "data": {
            "text/plain": [
              "Response(id='resp_68ae0912fc288191b6431ec7aaf27f850262591cf5e436c9', created_at=1756236051.0, error=None, incomplete_details=None, instructions=None, metadata={}, model='gpt-4.1-mini-2025-04-14', object='response', output=[ResponseOutputMessage(id='msg_68ae0913b8988191a6f3f6b70042b94a0262591cf5e436c9', content=[ResponseOutputText(annotations=[], text='A OpenAI é uma organização de pesquisa em inteligência artificial (IA) fundada em dezembro de 2015. Seu objetivo principal é desenvolver e promover IA de forma segura e benéfica para a humanidade. A OpenAI trabalha no avanço da tecnologia de inteligência artificial, criando modelos e sistemas que possam ser usados para uma variedade de aplicações, sempre com foco em minimizar riscos e maximizar benefícios sociais.\\n\\nA empresa é conhecida por desenvolver modelos de linguagem avançados, como o GPT (Generative Pre-trained Transformer), que podem gerar texto, responder a perguntas, traduzir idiomas, entre outras funções. Além dos modelos de linguagem, a OpenAI pesquisa em áreas como visão computacional, aprendizado por reforço e outras técnicas avançadas de IA.\\n\\nA OpenAI também tem um compromisso com a transparência e segurança no desenvolvimento da inteligência artificial, buscando colaborar com outras organizações para garantir que os avanços na área sejam usados de forma ética e responsável.', type='output_text', logprobs=[])], role='assistant', status='completed', type='message')], parallel_tool_calls=True, temperature=1.0, tool_choice='auto', tools=[], top_p=1.0, background=False, max_output_tokens=None, max_tool_calls=None, previous_response_id=None, prompt=None, prompt_cache_key=None, reasoning=Reasoning(effort=None, generate_summary=None, summary=None), safety_identifier=None, service_tier='default', status='completed', text=Text(format=ResponseFormatText(type='text'), verbosity='medium'), top_logprobs=0, truncation='disabled', usage=ResponseUsage(input_tokens=13, input_tokens_details=InputTokensDetails(cached_tokens=0), output_tokens=188, output_tokens_details=OutputTokensDetails(reasoning_tokens=0), total_tokens=201), user=None, store=True)"
            ]
          },
          "metadata": {},
          "execution_count": 6
        }
      ]
    },
    {
      "cell_type": "code",
      "source": [
        "print(response.to_json())"
      ],
      "metadata": {
        "colab": {
          "base_uri": "https://localhost:8080/"
        },
        "id": "3mue-JW-WhX6",
        "outputId": "dd2217b6-7b98-4c1d-e6e2-b9ec75c29564"
      },
      "execution_count": 7,
      "outputs": [
        {
          "output_type": "stream",
          "name": "stdout",
          "text": [
            "{\n",
            "  \"id\": \"resp_68ae0912fc288191b6431ec7aaf27f850262591cf5e436c9\",\n",
            "  \"created_at\": 1756236051.0,\n",
            "  \"error\": null,\n",
            "  \"incomplete_details\": null,\n",
            "  \"instructions\": null,\n",
            "  \"metadata\": {},\n",
            "  \"model\": \"gpt-4.1-mini-2025-04-14\",\n",
            "  \"object\": \"response\",\n",
            "  \"output\": [\n",
            "    {\n",
            "      \"id\": \"msg_68ae0913b8988191a6f3f6b70042b94a0262591cf5e436c9\",\n",
            "      \"content\": [\n",
            "        {\n",
            "          \"annotations\": [],\n",
            "          \"text\": \"A OpenAI é uma organização de pesquisa em inteligência artificial (IA) fundada em dezembro de 2015. Seu objetivo principal é desenvolver e promover IA de forma segura e benéfica para a humanidade. A OpenAI trabalha no avanço da tecnologia de inteligência artificial, criando modelos e sistemas que possam ser usados para uma variedade de aplicações, sempre com foco em minimizar riscos e maximizar benefícios sociais.\\n\\nA empresa é conhecida por desenvolver modelos de linguagem avançados, como o GPT (Generative Pre-trained Transformer), que podem gerar texto, responder a perguntas, traduzir idiomas, entre outras funções. Além dos modelos de linguagem, a OpenAI pesquisa em áreas como visão computacional, aprendizado por reforço e outras técnicas avançadas de IA.\\n\\nA OpenAI também tem um compromisso com a transparência e segurança no desenvolvimento da inteligência artificial, buscando colaborar com outras organizações para garantir que os avanços na área sejam usados de forma ética e responsável.\",\n",
            "          \"type\": \"output_text\",\n",
            "          \"logprobs\": []\n",
            "        }\n",
            "      ],\n",
            "      \"role\": \"assistant\",\n",
            "      \"status\": \"completed\",\n",
            "      \"type\": \"message\"\n",
            "    }\n",
            "  ],\n",
            "  \"parallel_tool_calls\": true,\n",
            "  \"temperature\": 1.0,\n",
            "  \"tool_choice\": \"auto\",\n",
            "  \"tools\": [],\n",
            "  \"top_p\": 1.0,\n",
            "  \"background\": false,\n",
            "  \"max_output_tokens\": null,\n",
            "  \"max_tool_calls\": null,\n",
            "  \"previous_response_id\": null,\n",
            "  \"prompt_cache_key\": null,\n",
            "  \"reasoning\": {\n",
            "    \"effort\": null,\n",
            "    \"summary\": null\n",
            "  },\n",
            "  \"safety_identifier\": null,\n",
            "  \"service_tier\": \"default\",\n",
            "  \"status\": \"completed\",\n",
            "  \"text\": {\n",
            "    \"format\": {\n",
            "      \"type\": \"text\"\n",
            "    },\n",
            "    \"verbosity\": \"medium\"\n",
            "  },\n",
            "  \"top_logprobs\": 0,\n",
            "  \"truncation\": \"disabled\",\n",
            "  \"usage\": {\n",
            "    \"input_tokens\": 13,\n",
            "    \"input_tokens_details\": {\n",
            "      \"cached_tokens\": 0\n",
            "    },\n",
            "    \"output_tokens\": 188,\n",
            "    \"output_tokens_details\": {\n",
            "      \"reasoning_tokens\": 0\n",
            "    },\n",
            "    \"total_tokens\": 201\n",
            "  },\n",
            "  \"user\": null,\n",
            "  \"store\": true\n",
            "}\n"
          ]
        }
      ]
    },
    {
      "cell_type": "code",
      "source": [
        "response.output[0].content[0].text"
      ],
      "metadata": {
        "colab": {
          "base_uri": "https://localhost:8080/",
          "height": 140
        },
        "id": "iTMRx2JCRFkD",
        "outputId": "b6ed256d-a88f-43f9-d46c-74352228d24d"
      },
      "execution_count": 8,
      "outputs": [
        {
          "output_type": "execute_result",
          "data": {
            "text/plain": [
              "'A OpenAI é uma organização de pesquisa em inteligência artificial (IA) fundada em dezembro de 2015. Seu objetivo principal é desenvolver e promover IA de forma segura e benéfica para a humanidade. A OpenAI trabalha no avanço da tecnologia de inteligência artificial, criando modelos e sistemas que possam ser usados para uma variedade de aplicações, sempre com foco em minimizar riscos e maximizar benefícios sociais.\\n\\nA empresa é conhecida por desenvolver modelos de linguagem avançados, como o GPT (Generative Pre-trained Transformer), que podem gerar texto, responder a perguntas, traduzir idiomas, entre outras funções. Além dos modelos de linguagem, a OpenAI pesquisa em áreas como visão computacional, aprendizado por reforço e outras técnicas avançadas de IA.\\n\\nA OpenAI também tem um compromisso com a transparência e segurança no desenvolvimento da inteligência artificial, buscando colaborar com outras organizações para garantir que os avanços na área sejam usados de forma ética e responsável.'"
            ],
            "application/vnd.google.colaboratory.intrinsic+json": {
              "type": "string"
            }
          },
          "metadata": {},
          "execution_count": 8
        }
      ]
    },
    {
      "cell_type": "markdown",
      "source": [
        "**Principais métodos (funções) da API da OpenAI:**\n",
        "\n",
        "- **`client.responses.create()`**: É o método simplificado da API Responses (o endpoint unificado). Ele envia um prompt e retorna diretamente o resultado em `response.output_text`. Ideal para aplicações que buscam uma resposta simples e direta, sem a estrutura de chat.\n",
        "\n",
        "- **`client.chat.completions.create()`**: É a API clássica de Chat Completions. Permite conversas estruturadas via uma lista de mensagens com roles (`system`, `user`, `assistant`). Muito utilizada para cenários com múltiplas mensagens, chamadas de função e contexto de diálogo.\n",
        "\n",
        "- **`client.responses.parse()`**: Chama a API Responses e converte diretamente a resposta para um objeto Python usando um modelo `Pydantic`, fornecido por você. Isso valida e tipifica a saída automaticamente."
      ],
      "metadata": {
        "id": "ihdBPhT0FokQ"
      }
    },
    {
      "cell_type": "markdown",
      "source": [
        "**Principais parâmetros:**"
      ],
      "metadata": {
        "id": "twTZV6n4y9U2"
      }
    },
    {
      "cell_type": "markdown",
      "source": [
        "| Parâmetro | Tipo | O que faz? | Observações / Exemplo |\n",
        "| --------- | ---- | ---------- | --------------------- |\n",
        "| **model** | `str`                | Define qual modelo usar.                                                   | Exemplos: `\"gpt-4.1-mini\"`, `\"gpt-4.1\"`, `\"gpt-4o\"`, `\"gpt-4o-mini\"`. [Lista de modelos](https://platform.openai.com/docs/models) |\n",
        "| **input**               | `list` ou `str`      | Entrada para o modelo — texto, imagem, áudio, etc.                         | No formato chat: lista com `{role, content}`. input=[{\"role\":\"user\",\"content\":[...]}], ou pode ser string simples |\n",
        "| **instructions**           | `str`                | Molda o estilo ou comportamento da resposta. Semelhante a rule `developer`. | Ex: \"Fale como um pirata\".             |\n",
        "| **temperature**         | `float` (0 a 2)      | Controla a criatividade / aleatoriedade das respostas.                     | `0` → mais determinístico. `1` → mais criativo.                       |\n",
        "| **max\\_output\\_tokens** | `int`                | Limita o tamanho da resposta (em tokens).                                  | Útil para evitar respostas muito longas.                              |\n",
        "| **reasoning**              | `dict`               | Guia o esforço de raciocínio interno do modelo.  | Ex: `{\"effort\": \"high\"}`. Especifique low, medium, ou high  |\n",
        "| **tools**                  | `list[dict]`         | Integra ferramentas externas e funções que pode chamar via tool calling. | Ex: geração de imagem, execução de código. Ex: [{\"type\":\"function\",\"name\":\"calc\",\"description\":\"...\",\"parameters\":{...}}] |\n",
        "| **stream**              | `bool`               | Se `True`, a resposta vem em tempo real (streaming).                       | Ex.: `stream=True` para receber em partes.                            |\n",
        "| **metadata**               | `dict`               | Informação customizada para logs ou rastreamento.                                           | Ex: `metadata={\"job_id\":\"1234\"}`                                                                            |\n",
        "| **response\\_format**       | `dict`               | Força o modelo a retornar **JSON válido** no formato específico (`{\"type\":\"json_object\"}`) | Retorna algo como: {\"joke\":\"Por que a galinha atravessou a rua? ...\"}  |\n",
        "| **text\\_format**           | `pydantic.BaseModel` | (em `client.responses.parse`) Permite deserializar uma resposta em objeto estruturado          | Ex: `text_format=CalendarEvent` com `responses.parse()` vai validar resposta como esse modelo |\n"
      ],
      "metadata": {
        "id": "ns8F3Y-HyWdM"
      }
    },
    {
      "cell_type": "markdown",
      "source": [
        "Repositório oficial da OpenAI: https://github.com/openai/openai-python"
      ],
      "metadata": {
        "id": "cEU7O6gzBNLV"
      }
    },
    {
      "cell_type": "markdown",
      "source": [
        "Temperatura (`temperature`)"
      ],
      "metadata": {
        "id": "fjeLChnOWyVK"
      }
    },
    {
      "cell_type": "code",
      "source": [
        "# Mais criativo\n",
        "from openai import OpenAI\n",
        "\n",
        "client = OpenAI(\n",
        "    api_key=OPENAI_API_KEY\n",
        ")\n",
        "\n",
        "response = client.responses.create(\n",
        "    model = \"gpt-4.1-mini\",\n",
        "    temperature = 1.5,\n",
        "    input = \"Se 1 + 1 = 2, quanto é com 2?\"\n",
        ")\n",
        "\n",
        "print(response.output_text)"
      ],
      "metadata": {
        "colab": {
          "base_uri": "https://localhost:8080/"
        },
        "id": "9KiTIlHGyVgC",
        "outputId": "a889dd19-a0cb-40bb-e12b-a7c1fa5b1052"
      },
      "execution_count": 9,
      "outputs": [
        {
          "output_type": "stream",
          "name": "stdout",
          "text": [
            "Se 1 + 1 = 2, então com 2 (considerando dois números 1), a soma continua sendo 2. \n",
            "\n",
            "Nesse contexto:\n",
            "\n",
            "- 1 + 1 = 2  \n",
            "- Somar duas vezes 1 resulta em 2.\n",
            "\n",
            "Se você quis dizer outra coisa ao usar \"com 2\", por favor, me explique para que eu possa ajudar melhor!\n"
          ]
        }
      ]
    },
    {
      "cell_type": "code",
      "source": [
        "# Menos criativo e mais direto\n",
        "from openai import OpenAI\n",
        "\n",
        "client = OpenAI(\n",
        "    api_key=OPENAI_API_KEY\n",
        ")\n",
        "\n",
        "response = client.responses.create(\n",
        "    model = \"gpt-4.1-mini\",\n",
        "    temperature = 0.0,\n",
        "    # max_output_tokens = 20,\n",
        "    # reasoning = {\"effort\": \"low\"}, # disponível no gpt-5\n",
        "    input = [\n",
        "        {\n",
        "            \"role\": \"user\",\n",
        "            \"content\": \"Se 1 + 1 = 2, quanto é com 2?\",\n",
        "        }\n",
        "    ]\n",
        ")\n",
        "\n",
        "print(response.output_text)"
      ],
      "metadata": {
        "colab": {
          "base_uri": "https://localhost:8080/"
        },
        "id": "VWc_H0GkyVdy",
        "outputId": "9fb571da-9e72-4379-8a24-523c45803ab8"
      },
      "execution_count": 10,
      "outputs": [
        {
          "output_type": "stream",
          "name": "stdout",
          "text": [
            "Se 1 + 1 = 2, então com 2, somando da mesma forma, 2 + 1 = 3. \n",
            "\n",
            "Se você quiser dizer \"quanto é 2 + 2?\", a resposta é 4. \n",
            "\n",
            "Se puder esclarecer melhor o que quer dizer com \"quanto é com 2?\", posso ajudar com mais precisão!\n"
          ]
        }
      ]
    },
    {
      "cell_type": "markdown",
      "source": [
        "####1.2 - Análise de documentos (arquivos)"
      ],
      "metadata": {
        "id": "mLEIBvzbgDku"
      }
    },
    {
      "cell_type": "markdown",
      "source": [
        "**Analisando um CSV**"
      ],
      "metadata": {
        "id": "0c1A8HZakAsB"
      }
    },
    {
      "cell_type": "markdown",
      "source": [
        "[Base de dados - **base_itens**](https://docs.google.com/spreadsheets/d/1-ISE6Z3ra8dKnpqe2GLh1oCxnLcp5i0d1Izd8iQpA1Y) (Google Sheet)\n"
      ],
      "metadata": {
        "id": "xb1-8shE9mSL"
      }
    },
    {
      "cell_type": "code",
      "source": [
        "import pandas as pd\n",
        "\n",
        "# URL para exportação CSV (ajustada com export?format=csv)\n",
        "url = \"https://docs.google.com/spreadsheets/d/1-ISE6Z3ra8dKnpqe2GLh1oCxnLcp5i0d1Izd8iQpA1Y/export?format=csv&gid=0\"\n",
        "\n",
        "# Carrega o arquivo em um DataFrame\n",
        "df = pd.read_csv(url)\n",
        "\n",
        "# Visualizar\n",
        "df.head()"
      ],
      "metadata": {
        "colab": {
          "base_uri": "https://localhost:8080/",
          "height": 504
        },
        "id": "wdJnlmlv89Ir",
        "outputId": "e7020727-1e8e-4bcd-e6e0-b13248cd8042"
      },
      "execution_count": 12,
      "outputs": [
        {
          "output_type": "execute_result",
          "data": {
            "text/plain": [
              "  id_item id_seller item_date_create user_type_description  \\\n",
              "0  IT0027    SL0092       26/01/2025    não concessionário   \n",
              "1  IT0028    SL0133       28/01/2025        concessionário   \n",
              "2  IT0018    SL1055       18/01/2025    não concessionário   \n",
              "3  IT0009    SL1122       10/01/2025        concessionário   \n",
              "4  IT0014    SL1212       15/01/2025        concessionário   \n",
              "\n",
              "                           title_item  \\\n",
              "0            Ciclomotor Elétrico 50cc   \n",
              "1     Vendo Ambulância Renault Master   \n",
              "2          Kart de Competição Thunder   \n",
              "3        Fiat Strada Freedom 1.3 2022   \n",
              "4  Volvo FH 540 Globetrotter 6x4 2023   \n",
              "\n",
              "                                    description_item detail_item brand_item  \\\n",
              "0  Ciclomotor elétrico, ideal para cidade. Super ...  ciclomotor   Shineray   \n",
              "1  Ambulância usada, tipo A, com todos os equipam...      furgão    Renault   \n",
              "2  Kart para competição, motor preparado, pronto ...    motoneta     Yamaha   \n",
              "3  Picape versátil e econômica. Versão cabine plu...      picape       Fiat   \n",
              "4  Cavalo mecânico top de linha. Pacote de segura...    caminhão      Volvo   \n",
              "\n",
              "  model_item  price_item  year_item  year_model_item state_item  \\\n",
              "0       PT-2        7200       2024             2024         BA   \n",
              "1     Master      115000       2018             2018         MG   \n",
              "2   NMAX 160       28000       2023             2023         SP   \n",
              "3     Strada       98000       2022             2022         SP   \n",
              "4     FH 540      950000       2023             2023         PR   \n",
              "\n",
              "                                       address_item  flg_suspeito  \n",
              "0      Av. Tancredo Neves, 300, Salvador, 41820-021             1  \n",
              "1  Av. do Contorno, 1500, Belo Horizonte, 30110-005             1  \n",
              "2         Av. Interlagos, 500, São Paulo, 04777-000             1  \n",
              "3        Av. Ibirapuera, 3000, São Paulo, 04028-002             0  \n",
              "4                BR-116, 15000, Curitiba, 81690-100             0  "
            ],
            "text/html": [
              "\n",
              "  <div id=\"df-e291f42c-0eeb-47bc-bf8f-f09095f21bd1\" class=\"colab-df-container\">\n",
              "    <div>\n",
              "<style scoped>\n",
              "    .dataframe tbody tr th:only-of-type {\n",
              "        vertical-align: middle;\n",
              "    }\n",
              "\n",
              "    .dataframe tbody tr th {\n",
              "        vertical-align: top;\n",
              "    }\n",
              "\n",
              "    .dataframe thead th {\n",
              "        text-align: right;\n",
              "    }\n",
              "</style>\n",
              "<table border=\"1\" class=\"dataframe\">\n",
              "  <thead>\n",
              "    <tr style=\"text-align: right;\">\n",
              "      <th></th>\n",
              "      <th>id_item</th>\n",
              "      <th>id_seller</th>\n",
              "      <th>item_date_create</th>\n",
              "      <th>user_type_description</th>\n",
              "      <th>title_item</th>\n",
              "      <th>description_item</th>\n",
              "      <th>detail_item</th>\n",
              "      <th>brand_item</th>\n",
              "      <th>model_item</th>\n",
              "      <th>price_item</th>\n",
              "      <th>year_item</th>\n",
              "      <th>year_model_item</th>\n",
              "      <th>state_item</th>\n",
              "      <th>address_item</th>\n",
              "      <th>flg_suspeito</th>\n",
              "    </tr>\n",
              "  </thead>\n",
              "  <tbody>\n",
              "    <tr>\n",
              "      <th>0</th>\n",
              "      <td>IT0027</td>\n",
              "      <td>SL0092</td>\n",
              "      <td>26/01/2025</td>\n",
              "      <td>não concessionário</td>\n",
              "      <td>Ciclomotor Elétrico 50cc</td>\n",
              "      <td>Ciclomotor elétrico, ideal para cidade. Super ...</td>\n",
              "      <td>ciclomotor</td>\n",
              "      <td>Shineray</td>\n",
              "      <td>PT-2</td>\n",
              "      <td>7200</td>\n",
              "      <td>2024</td>\n",
              "      <td>2024</td>\n",
              "      <td>BA</td>\n",
              "      <td>Av. Tancredo Neves, 300, Salvador, 41820-021</td>\n",
              "      <td>1</td>\n",
              "    </tr>\n",
              "    <tr>\n",
              "      <th>1</th>\n",
              "      <td>IT0028</td>\n",
              "      <td>SL0133</td>\n",
              "      <td>28/01/2025</td>\n",
              "      <td>concessionário</td>\n",
              "      <td>Vendo Ambulância Renault Master</td>\n",
              "      <td>Ambulância usada, tipo A, com todos os equipam...</td>\n",
              "      <td>furgão</td>\n",
              "      <td>Renault</td>\n",
              "      <td>Master</td>\n",
              "      <td>115000</td>\n",
              "      <td>2018</td>\n",
              "      <td>2018</td>\n",
              "      <td>MG</td>\n",
              "      <td>Av. do Contorno, 1500, Belo Horizonte, 30110-005</td>\n",
              "      <td>1</td>\n",
              "    </tr>\n",
              "    <tr>\n",
              "      <th>2</th>\n",
              "      <td>IT0018</td>\n",
              "      <td>SL1055</td>\n",
              "      <td>18/01/2025</td>\n",
              "      <td>não concessionário</td>\n",
              "      <td>Kart de Competição Thunder</td>\n",
              "      <td>Kart para competição, motor preparado, pronto ...</td>\n",
              "      <td>motoneta</td>\n",
              "      <td>Yamaha</td>\n",
              "      <td>NMAX 160</td>\n",
              "      <td>28000</td>\n",
              "      <td>2023</td>\n",
              "      <td>2023</td>\n",
              "      <td>SP</td>\n",
              "      <td>Av. Interlagos, 500, São Paulo, 04777-000</td>\n",
              "      <td>1</td>\n",
              "    </tr>\n",
              "    <tr>\n",
              "      <th>3</th>\n",
              "      <td>IT0009</td>\n",
              "      <td>SL1122</td>\n",
              "      <td>10/01/2025</td>\n",
              "      <td>concessionário</td>\n",
              "      <td>Fiat Strada Freedom 1.3 2022</td>\n",
              "      <td>Picape versátil e econômica. Versão cabine plu...</td>\n",
              "      <td>picape</td>\n",
              "      <td>Fiat</td>\n",
              "      <td>Strada</td>\n",
              "      <td>98000</td>\n",
              "      <td>2022</td>\n",
              "      <td>2022</td>\n",
              "      <td>SP</td>\n",
              "      <td>Av. Ibirapuera, 3000, São Paulo, 04028-002</td>\n",
              "      <td>0</td>\n",
              "    </tr>\n",
              "    <tr>\n",
              "      <th>4</th>\n",
              "      <td>IT0014</td>\n",
              "      <td>SL1212</td>\n",
              "      <td>15/01/2025</td>\n",
              "      <td>concessionário</td>\n",
              "      <td>Volvo FH 540 Globetrotter 6x4 2023</td>\n",
              "      <td>Cavalo mecânico top de linha. Pacote de segura...</td>\n",
              "      <td>caminhão</td>\n",
              "      <td>Volvo</td>\n",
              "      <td>FH 540</td>\n",
              "      <td>950000</td>\n",
              "      <td>2023</td>\n",
              "      <td>2023</td>\n",
              "      <td>PR</td>\n",
              "      <td>BR-116, 15000, Curitiba, 81690-100</td>\n",
              "      <td>0</td>\n",
              "    </tr>\n",
              "  </tbody>\n",
              "</table>\n",
              "</div>\n",
              "    <div class=\"colab-df-buttons\">\n",
              "\n",
              "  <div class=\"colab-df-container\">\n",
              "    <button class=\"colab-df-convert\" onclick=\"convertToInteractive('df-e291f42c-0eeb-47bc-bf8f-f09095f21bd1')\"\n",
              "            title=\"Convert this dataframe to an interactive table.\"\n",
              "            style=\"display:none;\">\n",
              "\n",
              "  <svg xmlns=\"http://www.w3.org/2000/svg\" height=\"24px\" viewBox=\"0 -960 960 960\">\n",
              "    <path d=\"M120-120v-720h720v720H120Zm60-500h600v-160H180v160Zm220 220h160v-160H400v160Zm0 220h160v-160H400v160ZM180-400h160v-160H180v160Zm440 0h160v-160H620v160ZM180-180h160v-160H180v160Zm440 0h160v-160H620v160Z\"/>\n",
              "  </svg>\n",
              "    </button>\n",
              "\n",
              "  <style>\n",
              "    .colab-df-container {\n",
              "      display:flex;\n",
              "      gap: 12px;\n",
              "    }\n",
              "\n",
              "    .colab-df-convert {\n",
              "      background-color: #E8F0FE;\n",
              "      border: none;\n",
              "      border-radius: 50%;\n",
              "      cursor: pointer;\n",
              "      display: none;\n",
              "      fill: #1967D2;\n",
              "      height: 32px;\n",
              "      padding: 0 0 0 0;\n",
              "      width: 32px;\n",
              "    }\n",
              "\n",
              "    .colab-df-convert:hover {\n",
              "      background-color: #E2EBFA;\n",
              "      box-shadow: 0px 1px 2px rgba(60, 64, 67, 0.3), 0px 1px 3px 1px rgba(60, 64, 67, 0.15);\n",
              "      fill: #174EA6;\n",
              "    }\n",
              "\n",
              "    .colab-df-buttons div {\n",
              "      margin-bottom: 4px;\n",
              "    }\n",
              "\n",
              "    [theme=dark] .colab-df-convert {\n",
              "      background-color: #3B4455;\n",
              "      fill: #D2E3FC;\n",
              "    }\n",
              "\n",
              "    [theme=dark] .colab-df-convert:hover {\n",
              "      background-color: #434B5C;\n",
              "      box-shadow: 0px 1px 3px 1px rgba(0, 0, 0, 0.15);\n",
              "      filter: drop-shadow(0px 1px 2px rgba(0, 0, 0, 0.3));\n",
              "      fill: #FFFFFF;\n",
              "    }\n",
              "  </style>\n",
              "\n",
              "    <script>\n",
              "      const buttonEl =\n",
              "        document.querySelector('#df-e291f42c-0eeb-47bc-bf8f-f09095f21bd1 button.colab-df-convert');\n",
              "      buttonEl.style.display =\n",
              "        google.colab.kernel.accessAllowed ? 'block' : 'none';\n",
              "\n",
              "      async function convertToInteractive(key) {\n",
              "        const element = document.querySelector('#df-e291f42c-0eeb-47bc-bf8f-f09095f21bd1');\n",
              "        const dataTable =\n",
              "          await google.colab.kernel.invokeFunction('convertToInteractive',\n",
              "                                                    [key], {});\n",
              "        if (!dataTable) return;\n",
              "\n",
              "        const docLinkHtml = 'Like what you see? Visit the ' +\n",
              "          '<a target=\"_blank\" href=https://colab.research.google.com/notebooks/data_table.ipynb>data table notebook</a>'\n",
              "          + ' to learn more about interactive tables.';\n",
              "        element.innerHTML = '';\n",
              "        dataTable['output_type'] = 'display_data';\n",
              "        await google.colab.output.renderOutput(dataTable, element);\n",
              "        const docLink = document.createElement('div');\n",
              "        docLink.innerHTML = docLinkHtml;\n",
              "        element.appendChild(docLink);\n",
              "      }\n",
              "    </script>\n",
              "  </div>\n",
              "\n",
              "\n",
              "    <div id=\"df-86e17f6c-c34c-466b-9ed1-355cd43084d4\">\n",
              "      <button class=\"colab-df-quickchart\" onclick=\"quickchart('df-86e17f6c-c34c-466b-9ed1-355cd43084d4')\"\n",
              "                title=\"Suggest charts\"\n",
              "                style=\"display:none;\">\n",
              "\n",
              "<svg xmlns=\"http://www.w3.org/2000/svg\" height=\"24px\"viewBox=\"0 0 24 24\"\n",
              "     width=\"24px\">\n",
              "    <g>\n",
              "        <path d=\"M19 3H5c-1.1 0-2 .9-2 2v14c0 1.1.9 2 2 2h14c1.1 0 2-.9 2-2V5c0-1.1-.9-2-2-2zM9 17H7v-7h2v7zm4 0h-2V7h2v10zm4 0h-2v-4h2v4z\"/>\n",
              "    </g>\n",
              "</svg>\n",
              "      </button>\n",
              "\n",
              "<style>\n",
              "  .colab-df-quickchart {\n",
              "      --bg-color: #E8F0FE;\n",
              "      --fill-color: #1967D2;\n",
              "      --hover-bg-color: #E2EBFA;\n",
              "      --hover-fill-color: #174EA6;\n",
              "      --disabled-fill-color: #AAA;\n",
              "      --disabled-bg-color: #DDD;\n",
              "  }\n",
              "\n",
              "  [theme=dark] .colab-df-quickchart {\n",
              "      --bg-color: #3B4455;\n",
              "      --fill-color: #D2E3FC;\n",
              "      --hover-bg-color: #434B5C;\n",
              "      --hover-fill-color: #FFFFFF;\n",
              "      --disabled-bg-color: #3B4455;\n",
              "      --disabled-fill-color: #666;\n",
              "  }\n",
              "\n",
              "  .colab-df-quickchart {\n",
              "    background-color: var(--bg-color);\n",
              "    border: none;\n",
              "    border-radius: 50%;\n",
              "    cursor: pointer;\n",
              "    display: none;\n",
              "    fill: var(--fill-color);\n",
              "    height: 32px;\n",
              "    padding: 0;\n",
              "    width: 32px;\n",
              "  }\n",
              "\n",
              "  .colab-df-quickchart:hover {\n",
              "    background-color: var(--hover-bg-color);\n",
              "    box-shadow: 0 1px 2px rgba(60, 64, 67, 0.3), 0 1px 3px 1px rgba(60, 64, 67, 0.15);\n",
              "    fill: var(--button-hover-fill-color);\n",
              "  }\n",
              "\n",
              "  .colab-df-quickchart-complete:disabled,\n",
              "  .colab-df-quickchart-complete:disabled:hover {\n",
              "    background-color: var(--disabled-bg-color);\n",
              "    fill: var(--disabled-fill-color);\n",
              "    box-shadow: none;\n",
              "  }\n",
              "\n",
              "  .colab-df-spinner {\n",
              "    border: 2px solid var(--fill-color);\n",
              "    border-color: transparent;\n",
              "    border-bottom-color: var(--fill-color);\n",
              "    animation:\n",
              "      spin 1s steps(1) infinite;\n",
              "  }\n",
              "\n",
              "  @keyframes spin {\n",
              "    0% {\n",
              "      border-color: transparent;\n",
              "      border-bottom-color: var(--fill-color);\n",
              "      border-left-color: var(--fill-color);\n",
              "    }\n",
              "    20% {\n",
              "      border-color: transparent;\n",
              "      border-left-color: var(--fill-color);\n",
              "      border-top-color: var(--fill-color);\n",
              "    }\n",
              "    30% {\n",
              "      border-color: transparent;\n",
              "      border-left-color: var(--fill-color);\n",
              "      border-top-color: var(--fill-color);\n",
              "      border-right-color: var(--fill-color);\n",
              "    }\n",
              "    40% {\n",
              "      border-color: transparent;\n",
              "      border-right-color: var(--fill-color);\n",
              "      border-top-color: var(--fill-color);\n",
              "    }\n",
              "    60% {\n",
              "      border-color: transparent;\n",
              "      border-right-color: var(--fill-color);\n",
              "    }\n",
              "    80% {\n",
              "      border-color: transparent;\n",
              "      border-right-color: var(--fill-color);\n",
              "      border-bottom-color: var(--fill-color);\n",
              "    }\n",
              "    90% {\n",
              "      border-color: transparent;\n",
              "      border-bottom-color: var(--fill-color);\n",
              "    }\n",
              "  }\n",
              "</style>\n",
              "\n",
              "      <script>\n",
              "        async function quickchart(key) {\n",
              "          const quickchartButtonEl =\n",
              "            document.querySelector('#' + key + ' button');\n",
              "          quickchartButtonEl.disabled = true;  // To prevent multiple clicks.\n",
              "          quickchartButtonEl.classList.add('colab-df-spinner');\n",
              "          try {\n",
              "            const charts = await google.colab.kernel.invokeFunction(\n",
              "                'suggestCharts', [key], {});\n",
              "          } catch (error) {\n",
              "            console.error('Error during call to suggestCharts:', error);\n",
              "          }\n",
              "          quickchartButtonEl.classList.remove('colab-df-spinner');\n",
              "          quickchartButtonEl.classList.add('colab-df-quickchart-complete');\n",
              "        }\n",
              "        (() => {\n",
              "          let quickchartButtonEl =\n",
              "            document.querySelector('#df-86e17f6c-c34c-466b-9ed1-355cd43084d4 button');\n",
              "          quickchartButtonEl.style.display =\n",
              "            google.colab.kernel.accessAllowed ? 'block' : 'none';\n",
              "        })();\n",
              "      </script>\n",
              "    </div>\n",
              "\n",
              "    </div>\n",
              "  </div>\n"
            ],
            "application/vnd.google.colaboratory.intrinsic+json": {
              "type": "dataframe",
              "variable_name": "df",
              "summary": "{\n  \"name\": \"df\",\n  \"rows\": 30,\n  \"fields\": [\n    {\n      \"column\": \"id_item\",\n      \"properties\": {\n        \"dtype\": \"string\",\n        \"num_unique_values\": 30,\n        \"samples\": [\n          \"IT0015\",\n          \"IT0011\",\n          \"IT0007\"\n        ],\n        \"semantic_type\": \"\",\n        \"description\": \"\"\n      }\n    },\n    {\n      \"column\": \"id_seller\",\n      \"properties\": {\n        \"dtype\": \"string\",\n        \"num_unique_values\": 22,\n        \"samples\": [\n          \"SL0092\",\n          \"SL5678\",\n          \"SL3434\"\n        ],\n        \"semantic_type\": \"\",\n        \"description\": \"\"\n      }\n    },\n    {\n      \"column\": \"item_date_create\",\n      \"properties\": {\n        \"dtype\": \"object\",\n        \"num_unique_values\": 26,\n        \"samples\": [\n          \"11/01/2025\",\n          \"19/01/2025\",\n          \"26/01/2025\"\n        ],\n        \"semantic_type\": \"\",\n        \"description\": \"\"\n      }\n    },\n    {\n      \"column\": \"user_type_description\",\n      \"properties\": {\n        \"dtype\": \"category\",\n        \"num_unique_values\": 2,\n        \"samples\": [\n          \"concession\\u00e1rio\",\n          \"n\\u00e3o concession\\u00e1rio\"\n        ],\n        \"semantic_type\": \"\",\n        \"description\": \"\"\n      }\n    },\n    {\n      \"column\": \"title_item\",\n      \"properties\": {\n        \"dtype\": \"string\",\n        \"num_unique_values\": 30,\n        \"samples\": [\n          \"Vendo Trator Valtra A950\",\n          \"Scania R450 6x2 Highline 2021\"\n        ],\n        \"semantic_type\": \"\",\n        \"description\": \"\"\n      }\n    },\n    {\n      \"column\": \"description_item\",\n      \"properties\": {\n        \"dtype\": \"string\",\n        \"num_unique_values\": 30,\n        \"samples\": [\n          \"Trator agr\\u00edcola em perfeito estado, \\u00f3timo para lavoura. Poucas horas de uso. Tratar com Jo\\u00e3o.\",\n          \"Caminh\\u00e3o em excelente estado, \\u00fanico dono. Plano de manuten\\u00e7\\u00e3o em dia. Suspens\\u00e3o a ar.\"\n        ],\n        \"semantic_type\": \"\",\n        \"description\": \"\"\n      }\n    },\n    {\n      \"column\": \"detail_item\",\n      \"properties\": {\n        \"dtype\": \"category\",\n        \"num_unique_values\": 11,\n        \"samples\": [\n          \"hatch\",\n          \"ciclomotor\"\n        ],\n        \"semantic_type\": \"\",\n        \"description\": \"\"\n      }\n    },\n    {\n      \"column\": \"brand_item\",\n      \"properties\": {\n        \"dtype\": \"string\",\n        \"num_unique_values\": 18,\n        \"samples\": [\n          \"Shineray\",\n          \"Renault\"\n        ],\n        \"semantic_type\": \"\",\n        \"description\": \"\"\n      }\n    },\n    {\n      \"column\": \"model_item\",\n      \"properties\": {\n        \"dtype\": \"string\",\n        \"num_unique_values\": 28,\n        \"samples\": [\n          \"A3\",\n          \"S10\"\n        ],\n        \"semantic_type\": \"\",\n        \"description\": \"\"\n      }\n    },\n    {\n      \"column\": \"price_item\",\n      \"properties\": {\n        \"dtype\": \"number\",\n        \"std\": 200853,\n        \"min\": 7200,\n        \"max\": 950000,\n        \"num_unique_values\": 30,\n        \"samples\": [\n          310000,\n          650000\n        ],\n        \"semantic_type\": \"\",\n        \"description\": \"\"\n      }\n    },\n    {\n      \"column\": \"year_item\",\n      \"properties\": {\n        \"dtype\": \"number\",\n        \"std\": 1,\n        \"min\": 2018,\n        \"max\": 2024,\n        \"num_unique_values\": 7,\n        \"samples\": [\n          2024,\n          2018\n        ],\n        \"semantic_type\": \"\",\n        \"description\": \"\"\n      }\n    },\n    {\n      \"column\": \"year_model_item\",\n      \"properties\": {\n        \"dtype\": \"number\",\n        \"std\": 1,\n        \"min\": 2018,\n        \"max\": 2024,\n        \"num_unique_values\": 7,\n        \"samples\": [\n          2024,\n          2018\n        ],\n        \"semantic_type\": \"\",\n        \"description\": \"\"\n      }\n    },\n    {\n      \"column\": \"state_item\",\n      \"properties\": {\n        \"dtype\": \"category\",\n        \"num_unique_values\": 9,\n        \"samples\": [\n          \"GO\",\n          \"MG\"\n        ],\n        \"semantic_type\": \"\",\n        \"description\": \"\"\n      }\n    },\n    {\n      \"column\": \"address_item\",\n      \"properties\": {\n        \"dtype\": \"string\",\n        \"num_unique_values\": 24,\n        \"samples\": [\n          \"Av. Sete de Setembro, 100, Salvador, 40060-001\",\n          \"Av. Europa, 500, S\\u00e3o Paulo, 01449-000\"\n        ],\n        \"semantic_type\": \"\",\n        \"description\": \"\"\n      }\n    },\n    {\n      \"column\": \"flg_suspeito\",\n      \"properties\": {\n        \"dtype\": \"number\",\n        \"std\": 0,\n        \"min\": 0,\n        \"max\": 1,\n        \"num_unique_values\": 2,\n        \"samples\": [\n          0,\n          1\n        ],\n        \"semantic_type\": \"\",\n        \"description\": \"\"\n      }\n    }\n  ]\n}"
            }
          },
          "metadata": {},
          "execution_count": 12
        }
      ]
    },
    {
      "cell_type": "code",
      "source": [
        "# Selecionando apenas um Seller para analisar, mas vamos tirar a resposta (flg_suspeito)\n",
        "df_veiculos = df.query(\"id_seller == 'SL7734'\").drop(columns=['flg_suspeito'])\n",
        "df_veiculos.head()"
      ],
      "metadata": {
        "colab": {
          "base_uri": "https://localhost:8080/",
          "height": 253
        },
        "id": "5UIFjHa_-LyZ",
        "outputId": "e11739a3-2e7a-4dd1-a2f8-674874fbfe38"
      },
      "execution_count": 17,
      "outputs": [
        {
          "output_type": "execute_result",
          "data": {
            "text/plain": [
              "   id_item id_seller item_date_create user_type_description  \\\n",
              "18  IT0021    SL7734       20/01/2025        concessionário   \n",
              "19  IT0029    SL7734       30/01/2025        concessionário   \n",
              "\n",
              "                               title_item  \\\n",
              "18  Fiat Argo 2022 - LIGUE JÁ 11987654321   \n",
              "19             Mustang GT (11) 98877-6655   \n",
              "\n",
              "                                     description_item detail_item brand_item  \\\n",
              "18  Carro super econômico, documentação ok. Para m...       hatch       Fiat   \n",
              "19  Ford Mustang GT V8, preto, 2019. Para mais inf...       sedan       Ford   \n",
              "\n",
              "   model_item  price_item  year_item  year_model_item state_item  \\\n",
              "18       Argo       75000       2022             2022         SP   \n",
              "19    Mustang      450000       2019             2019         SP   \n",
              "\n",
              "                                         address_item  \n",
              "18  Av. das Nações Unidas, 1000, São Paulo, 04578-907  \n",
              "19              Av. Europa, 500, São Paulo, 01449-000  "
            ],
            "text/html": [
              "\n",
              "  <div id=\"df-03ddae50-1017-440b-8db9-89d28e187c2a\" class=\"colab-df-container\">\n",
              "    <div>\n",
              "<style scoped>\n",
              "    .dataframe tbody tr th:only-of-type {\n",
              "        vertical-align: middle;\n",
              "    }\n",
              "\n",
              "    .dataframe tbody tr th {\n",
              "        vertical-align: top;\n",
              "    }\n",
              "\n",
              "    .dataframe thead th {\n",
              "        text-align: right;\n",
              "    }\n",
              "</style>\n",
              "<table border=\"1\" class=\"dataframe\">\n",
              "  <thead>\n",
              "    <tr style=\"text-align: right;\">\n",
              "      <th></th>\n",
              "      <th>id_item</th>\n",
              "      <th>id_seller</th>\n",
              "      <th>item_date_create</th>\n",
              "      <th>user_type_description</th>\n",
              "      <th>title_item</th>\n",
              "      <th>description_item</th>\n",
              "      <th>detail_item</th>\n",
              "      <th>brand_item</th>\n",
              "      <th>model_item</th>\n",
              "      <th>price_item</th>\n",
              "      <th>year_item</th>\n",
              "      <th>year_model_item</th>\n",
              "      <th>state_item</th>\n",
              "      <th>address_item</th>\n",
              "    </tr>\n",
              "  </thead>\n",
              "  <tbody>\n",
              "    <tr>\n",
              "      <th>18</th>\n",
              "      <td>IT0021</td>\n",
              "      <td>SL7734</td>\n",
              "      <td>20/01/2025</td>\n",
              "      <td>concessionário</td>\n",
              "      <td>Fiat Argo 2022 - LIGUE JÁ 11987654321</td>\n",
              "      <td>Carro super econômico, documentação ok. Para m...</td>\n",
              "      <td>hatch</td>\n",
              "      <td>Fiat</td>\n",
              "      <td>Argo</td>\n",
              "      <td>75000</td>\n",
              "      <td>2022</td>\n",
              "      <td>2022</td>\n",
              "      <td>SP</td>\n",
              "      <td>Av. das Nações Unidas, 1000, São Paulo, 04578-907</td>\n",
              "    </tr>\n",
              "    <tr>\n",
              "      <th>19</th>\n",
              "      <td>IT0029</td>\n",
              "      <td>SL7734</td>\n",
              "      <td>30/01/2025</td>\n",
              "      <td>concessionário</td>\n",
              "      <td>Mustang GT (11) 98877-6655</td>\n",
              "      <td>Ford Mustang GT V8, preto, 2019. Para mais inf...</td>\n",
              "      <td>sedan</td>\n",
              "      <td>Ford</td>\n",
              "      <td>Mustang</td>\n",
              "      <td>450000</td>\n",
              "      <td>2019</td>\n",
              "      <td>2019</td>\n",
              "      <td>SP</td>\n",
              "      <td>Av. Europa, 500, São Paulo, 01449-000</td>\n",
              "    </tr>\n",
              "  </tbody>\n",
              "</table>\n",
              "</div>\n",
              "    <div class=\"colab-df-buttons\">\n",
              "\n",
              "  <div class=\"colab-df-container\">\n",
              "    <button class=\"colab-df-convert\" onclick=\"convertToInteractive('df-03ddae50-1017-440b-8db9-89d28e187c2a')\"\n",
              "            title=\"Convert this dataframe to an interactive table.\"\n",
              "            style=\"display:none;\">\n",
              "\n",
              "  <svg xmlns=\"http://www.w3.org/2000/svg\" height=\"24px\" viewBox=\"0 -960 960 960\">\n",
              "    <path d=\"M120-120v-720h720v720H120Zm60-500h600v-160H180v160Zm220 220h160v-160H400v160Zm0 220h160v-160H400v160ZM180-400h160v-160H180v160Zm440 0h160v-160H620v160ZM180-180h160v-160H180v160Zm440 0h160v-160H620v160Z\"/>\n",
              "  </svg>\n",
              "    </button>\n",
              "\n",
              "  <style>\n",
              "    .colab-df-container {\n",
              "      display:flex;\n",
              "      gap: 12px;\n",
              "    }\n",
              "\n",
              "    .colab-df-convert {\n",
              "      background-color: #E8F0FE;\n",
              "      border: none;\n",
              "      border-radius: 50%;\n",
              "      cursor: pointer;\n",
              "      display: none;\n",
              "      fill: #1967D2;\n",
              "      height: 32px;\n",
              "      padding: 0 0 0 0;\n",
              "      width: 32px;\n",
              "    }\n",
              "\n",
              "    .colab-df-convert:hover {\n",
              "      background-color: #E2EBFA;\n",
              "      box-shadow: 0px 1px 2px rgba(60, 64, 67, 0.3), 0px 1px 3px 1px rgba(60, 64, 67, 0.15);\n",
              "      fill: #174EA6;\n",
              "    }\n",
              "\n",
              "    .colab-df-buttons div {\n",
              "      margin-bottom: 4px;\n",
              "    }\n",
              "\n",
              "    [theme=dark] .colab-df-convert {\n",
              "      background-color: #3B4455;\n",
              "      fill: #D2E3FC;\n",
              "    }\n",
              "\n",
              "    [theme=dark] .colab-df-convert:hover {\n",
              "      background-color: #434B5C;\n",
              "      box-shadow: 0px 1px 3px 1px rgba(0, 0, 0, 0.15);\n",
              "      filter: drop-shadow(0px 1px 2px rgba(0, 0, 0, 0.3));\n",
              "      fill: #FFFFFF;\n",
              "    }\n",
              "  </style>\n",
              "\n",
              "    <script>\n",
              "      const buttonEl =\n",
              "        document.querySelector('#df-03ddae50-1017-440b-8db9-89d28e187c2a button.colab-df-convert');\n",
              "      buttonEl.style.display =\n",
              "        google.colab.kernel.accessAllowed ? 'block' : 'none';\n",
              "\n",
              "      async function convertToInteractive(key) {\n",
              "        const element = document.querySelector('#df-03ddae50-1017-440b-8db9-89d28e187c2a');\n",
              "        const dataTable =\n",
              "          await google.colab.kernel.invokeFunction('convertToInteractive',\n",
              "                                                    [key], {});\n",
              "        if (!dataTable) return;\n",
              "\n",
              "        const docLinkHtml = 'Like what you see? Visit the ' +\n",
              "          '<a target=\"_blank\" href=https://colab.research.google.com/notebooks/data_table.ipynb>data table notebook</a>'\n",
              "          + ' to learn more about interactive tables.';\n",
              "        element.innerHTML = '';\n",
              "        dataTable['output_type'] = 'display_data';\n",
              "        await google.colab.output.renderOutput(dataTable, element);\n",
              "        const docLink = document.createElement('div');\n",
              "        docLink.innerHTML = docLinkHtml;\n",
              "        element.appendChild(docLink);\n",
              "      }\n",
              "    </script>\n",
              "  </div>\n",
              "\n",
              "\n",
              "    <div id=\"df-f725a7e2-628f-41a8-a75c-a740f197e4a5\">\n",
              "      <button class=\"colab-df-quickchart\" onclick=\"quickchart('df-f725a7e2-628f-41a8-a75c-a740f197e4a5')\"\n",
              "                title=\"Suggest charts\"\n",
              "                style=\"display:none;\">\n",
              "\n",
              "<svg xmlns=\"http://www.w3.org/2000/svg\" height=\"24px\"viewBox=\"0 0 24 24\"\n",
              "     width=\"24px\">\n",
              "    <g>\n",
              "        <path d=\"M19 3H5c-1.1 0-2 .9-2 2v14c0 1.1.9 2 2 2h14c1.1 0 2-.9 2-2V5c0-1.1-.9-2-2-2zM9 17H7v-7h2v7zm4 0h-2V7h2v10zm4 0h-2v-4h2v4z\"/>\n",
              "    </g>\n",
              "</svg>\n",
              "      </button>\n",
              "\n",
              "<style>\n",
              "  .colab-df-quickchart {\n",
              "      --bg-color: #E8F0FE;\n",
              "      --fill-color: #1967D2;\n",
              "      --hover-bg-color: #E2EBFA;\n",
              "      --hover-fill-color: #174EA6;\n",
              "      --disabled-fill-color: #AAA;\n",
              "      --disabled-bg-color: #DDD;\n",
              "  }\n",
              "\n",
              "  [theme=dark] .colab-df-quickchart {\n",
              "      --bg-color: #3B4455;\n",
              "      --fill-color: #D2E3FC;\n",
              "      --hover-bg-color: #434B5C;\n",
              "      --hover-fill-color: #FFFFFF;\n",
              "      --disabled-bg-color: #3B4455;\n",
              "      --disabled-fill-color: #666;\n",
              "  }\n",
              "\n",
              "  .colab-df-quickchart {\n",
              "    background-color: var(--bg-color);\n",
              "    border: none;\n",
              "    border-radius: 50%;\n",
              "    cursor: pointer;\n",
              "    display: none;\n",
              "    fill: var(--fill-color);\n",
              "    height: 32px;\n",
              "    padding: 0;\n",
              "    width: 32px;\n",
              "  }\n",
              "\n",
              "  .colab-df-quickchart:hover {\n",
              "    background-color: var(--hover-bg-color);\n",
              "    box-shadow: 0 1px 2px rgba(60, 64, 67, 0.3), 0 1px 3px 1px rgba(60, 64, 67, 0.15);\n",
              "    fill: var(--button-hover-fill-color);\n",
              "  }\n",
              "\n",
              "  .colab-df-quickchart-complete:disabled,\n",
              "  .colab-df-quickchart-complete:disabled:hover {\n",
              "    background-color: var(--disabled-bg-color);\n",
              "    fill: var(--disabled-fill-color);\n",
              "    box-shadow: none;\n",
              "  }\n",
              "\n",
              "  .colab-df-spinner {\n",
              "    border: 2px solid var(--fill-color);\n",
              "    border-color: transparent;\n",
              "    border-bottom-color: var(--fill-color);\n",
              "    animation:\n",
              "      spin 1s steps(1) infinite;\n",
              "  }\n",
              "\n",
              "  @keyframes spin {\n",
              "    0% {\n",
              "      border-color: transparent;\n",
              "      border-bottom-color: var(--fill-color);\n",
              "      border-left-color: var(--fill-color);\n",
              "    }\n",
              "    20% {\n",
              "      border-color: transparent;\n",
              "      border-left-color: var(--fill-color);\n",
              "      border-top-color: var(--fill-color);\n",
              "    }\n",
              "    30% {\n",
              "      border-color: transparent;\n",
              "      border-left-color: var(--fill-color);\n",
              "      border-top-color: var(--fill-color);\n",
              "      border-right-color: var(--fill-color);\n",
              "    }\n",
              "    40% {\n",
              "      border-color: transparent;\n",
              "      border-right-color: var(--fill-color);\n",
              "      border-top-color: var(--fill-color);\n",
              "    }\n",
              "    60% {\n",
              "      border-color: transparent;\n",
              "      border-right-color: var(--fill-color);\n",
              "    }\n",
              "    80% {\n",
              "      border-color: transparent;\n",
              "      border-right-color: var(--fill-color);\n",
              "      border-bottom-color: var(--fill-color);\n",
              "    }\n",
              "    90% {\n",
              "      border-color: transparent;\n",
              "      border-bottom-color: var(--fill-color);\n",
              "    }\n",
              "  }\n",
              "</style>\n",
              "\n",
              "      <script>\n",
              "        async function quickchart(key) {\n",
              "          const quickchartButtonEl =\n",
              "            document.querySelector('#' + key + ' button');\n",
              "          quickchartButtonEl.disabled = true;  // To prevent multiple clicks.\n",
              "          quickchartButtonEl.classList.add('colab-df-spinner');\n",
              "          try {\n",
              "            const charts = await google.colab.kernel.invokeFunction(\n",
              "                'suggestCharts', [key], {});\n",
              "          } catch (error) {\n",
              "            console.error('Error during call to suggestCharts:', error);\n",
              "          }\n",
              "          quickchartButtonEl.classList.remove('colab-df-spinner');\n",
              "          quickchartButtonEl.classList.add('colab-df-quickchart-complete');\n",
              "        }\n",
              "        (() => {\n",
              "          let quickchartButtonEl =\n",
              "            document.querySelector('#df-f725a7e2-628f-41a8-a75c-a740f197e4a5 button');\n",
              "          quickchartButtonEl.style.display =\n",
              "            google.colab.kernel.accessAllowed ? 'block' : 'none';\n",
              "        })();\n",
              "      </script>\n",
              "    </div>\n",
              "\n",
              "    </div>\n",
              "  </div>\n"
            ],
            "application/vnd.google.colaboratory.intrinsic+json": {
              "type": "dataframe",
              "variable_name": "df_veiculos",
              "repr_error": "0"
            }
          },
          "metadata": {},
          "execution_count": 17
        }
      ]
    },
    {
      "cell_type": "code",
      "source": [
        "# Converte um DataFrame para CSV\n",
        "dados_csv = df_veiculos.to_csv(index=False, sep='|')\n",
        "print(dados_csv)"
      ],
      "metadata": {
        "id": "jYiYP5pYX57l",
        "colab": {
          "base_uri": "https://localhost:8080/"
        },
        "outputId": "cac21157-c528-4cdb-f0ff-d61a606793f1"
      },
      "execution_count": 23,
      "outputs": [
        {
          "output_type": "stream",
          "name": "stdout",
          "text": [
            "id_item|id_seller|item_date_create|user_type_description|title_item|description_item|detail_item|brand_item|model_item|price_item|year_item|year_model_item|state_item|address_item\n",
            "IT0021|SL7734|20/01/2025|concessionário|Fiat Argo 2022 - LIGUE JÁ 11987654321|Carro super econômico, documentação ok. Para mais detalhes, me chame no WhatsApp 11-98765-4321.|hatch|Fiat|Argo|75000|2022|2022|SP|Av. das Nações Unidas, 1000, São Paulo, 04578-907\n",
            "IT0029|SL7734|30/01/2025|concessionário|Mustang GT (11) 98877-6655|Ford Mustang GT V8, preto, 2019. Para mais informações, contato preferencial por WhatsApp.|sedan|Ford|Mustang|450000|2019|2019|SP|Av. Europa, 500, São Paulo, 01449-000\n",
            "\n"
          ]
        }
      ]
    },
    {
      "cell_type": "code",
      "source": [
        "from openai import OpenAI\n",
        "\n",
        "client = OpenAI(\n",
        "    api_key=OPENAI_API_KEY\n",
        ")\n",
        "\n",
        "prompt = f\"\"\"\n",
        "Analise os dados a seguir em formato CSV (seperado com o pipe |):\n",
        "\n",
        "# DADOS:\n",
        "{dados_csv}\n",
        "\n",
        "Por favor, faça um breve resumo dos principais insights e padrões encontrados.\n",
        "\"\"\"\n",
        "\n",
        "print(prompt)"
      ],
      "metadata": {
        "colab": {
          "base_uri": "https://localhost:8080/"
        },
        "id": "ASt7AJe6gJaE",
        "outputId": "8b1d8f4d-ffe1-4bdc-9a96-3b32ffe123f1"
      },
      "execution_count": 25,
      "outputs": [
        {
          "output_type": "stream",
          "name": "stdout",
          "text": [
            "\n",
            "Analise os dados a seguir em formato CSV (seperado com o pipe |):\n",
            "\n",
            "# DADOS:\n",
            "id_item|id_seller|item_date_create|user_type_description|title_item|description_item|detail_item|brand_item|model_item|price_item|year_item|year_model_item|state_item|address_item\n",
            "IT0021|SL7734|20/01/2025|concessionário|Fiat Argo 2022 - LIGUE JÁ 11987654321|Carro super econômico, documentação ok. Para mais detalhes, me chame no WhatsApp 11-98765-4321.|hatch|Fiat|Argo|75000|2022|2022|SP|Av. das Nações Unidas, 1000, São Paulo, 04578-907\n",
            "IT0029|SL7734|30/01/2025|concessionário|Mustang GT (11) 98877-6655|Ford Mustang GT V8, preto, 2019. Para mais informações, contato preferencial por WhatsApp.|sedan|Ford|Mustang|450000|2019|2019|SP|Av. Europa, 500, São Paulo, 01449-000\n",
            "\n",
            "\n",
            "Por favor, faça um breve resumo dos principais insights e padrões encontrados.\n",
            "\n"
          ]
        }
      ]
    },
    {
      "cell_type": "code",
      "source": [
        "# Chamada da LLM para gerar uma resposta\n",
        "response = client.chat.completions.create(\n",
        "    model = \"gpt-4o-mini\",\n",
        "    messages = [\n",
        "        {\"role\": \"user\", \"content\": prompt}\n",
        "    ],\n",
        "    temperature = 0.5,\n",
        ")\n",
        "\n",
        "print(response.choices[0].message.content)"
      ],
      "metadata": {
        "colab": {
          "base_uri": "https://localhost:8080/"
        },
        "id": "lNJulbFoXVn4",
        "outputId": "970a64f3-892b-41d8-9aba-498775c0f669"
      },
      "execution_count": 26,
      "outputs": [
        {
          "output_type": "stream",
          "name": "stdout",
          "text": [
            "A análise dos dados fornecidos em formato CSV revela algumas informações importantes sobre os itens à venda, todos relacionados a veículos. Aqui estão os principais insights e padrões encontrados:\n",
            "\n",
            "1. **Tipo de Vendedor**:\n",
            "   - Ambos os itens listados são oferecidos por concessionários, indicando que os vendedores podem ser empresas ou revendedores oficiais, o que pode influenciar a confiança dos compradores.\n",
            "\n",
            "2. **Localização**:\n",
            "   - Ambos os itens estão localizados no estado de São Paulo (SP), especificamente em áreas da cidade de São Paulo. Isso pode indicar um mercado concentrado e a necessidade de estratégias de marketing direcionadas para essa região.\n",
            "\n",
            "3. **Variedade de Veículos**:\n",
            "   - Os itens apresentados incluem dois tipos de veículos: um hatch (Fiat Argo 2022) e um sedan (Ford Mustang GT 2019). Isso sugere uma diversidade no portfólio de produtos oferecidos pelo vendedor, atendendo a diferentes preferências de consumidores.\n",
            "\n",
            "4. **Faixa de Preço**:\n",
            "   - O preço do Fiat Argo 2022 é de R$ 75.000, enquanto o Ford Mustang GT 2019 é significativamente mais caro, custando R$ 450.000. Essa diferença de preço pode indicar a segmentação do mercado, onde o primeiro veículo é mais acessível e o segundo é um carro de luxo.\n",
            "\n",
            "5. **Ano do Modelo**:\n",
            "   - O Fiat Argo é um modelo 2022, enquanto o Mustang GT é de 2019. Isso pode atrair diferentes perfis de compradores: aqueles que buscam um carro novo e moderno em comparação com aqueles que podem estar interessados em um esportivo de luxo, mas que não necessariamente precisam de um modelo do ano atual.\n",
            "\n",
            "6. **Comunicação e Marketing**:\n",
            "   - Ambos os anúncios utilizam números de WhatsApp para contato, sugerindo uma estratégia de marketing que visa facilitar a comunicação direta com os potenciais compradores. Isso pode aumentar a eficiência nas vendas e a interação com os clientes.\n",
            "\n",
            "7. **Descrição dos Itens**:\n",
            "   - As descrições são informativas e destacam características importantes, como a economia de combustível e a condição da documentação, o que pode ser um fator decisivo para os compradores.\n",
            "\n",
            "Esses insights podem ser úteis para entender o mercado de veículos em São Paulo, bem como para desenvolver estratégias de venda e marketing mais eficazes.\n"
          ]
        }
      ]
    },
    {
      "cell_type": "markdown",
      "source": [
        "Veja que estamos usando o método **`client.chat.completions.create()`** apenas para demonstrar o uso de outra função."
      ],
      "metadata": {
        "id": "3c8HvGCFXsnD"
      }
    },
    {
      "cell_type": "code",
      "source": [
        "# Consumo de tokens\n",
        "response.usage"
      ],
      "metadata": {
        "colab": {
          "base_uri": "https://localhost:8080/"
        },
        "id": "e4dsir10Gi25",
        "outputId": "a58359bb-86fc-4b47-c68f-9654be8ab5cd"
      },
      "execution_count": 27,
      "outputs": [
        {
          "output_type": "execute_result",
          "data": {
            "text/plain": [
              "CompletionUsage(completion_tokens=486, prompt_tokens=285, total_tokens=771, completion_tokens_details=CompletionTokensDetails(accepted_prediction_tokens=0, audio_tokens=0, reasoning_tokens=0, rejected_prediction_tokens=0), prompt_tokens_details=PromptTokensDetails(audio_tokens=0, cached_tokens=0))"
            ]
          },
          "metadata": {},
          "execution_count": 27
        }
      ]
    },
    {
      "cell_type": "markdown",
      "source": [
        "###**2. Prompt Engineering**"
      ],
      "metadata": {
        "id": "sDtF3xI2tPTj"
      }
    },
    {
      "cell_type": "markdown",
      "source": [
        "Vamos controlar um pouco mais a saída desses modelos?"
      ],
      "metadata": {
        "id": "g6h-x3NpsA_z"
      }
    },
    {
      "cell_type": "markdown",
      "source": [
        "####2.1 - Estrutura de um Prompt"
      ],
      "metadata": {
        "id": "c82O1xiRa7YG"
      }
    },
    {
      "cell_type": "markdown",
      "source": [
        "----\n",
        "\n",
        "Vamos começar a aplicar algumas técnicas de **Prompt Engineering**:\n",
        "\n",
        "- **Instrução (Instruction):** É o verbo da sua solicitação (ação principal). A ação específica para que o modelo realize a tarefa. Ex.: \"Gere\", \"Traduza\", \"Resuma\", \"Classifique\", \"Converta“, etc.\n",
        "- **Contexto (Context):** É a informação que o modelo precisa para entender a tarefa. Podemos incluir informações de negócio, exemplos, restrições ou a situação em que a tarefa se insere.\n",
        "- **Dados de Entrada (Input Data):** É o \"objeto\" sobre o qual a instrução deve agir. Pode ser um bloco de código, um texto, um conjunto de dados em formato de texto, uma imagem, etc.\n",
        "- **Indicador de Saída (Output Indicator):** É a instrução que sinaliza ao modelo como ele deve gerar a resposta, seja uma palavra ou formato específico. Ex: \"JSON:\", \"Código:\", \"Resumo:“, etc."
      ],
      "metadata": {
        "id": "ty265EMcNIGJ"
      }
    },
    {
      "cell_type": "markdown",
      "source": [
        "![image.png](data:image/png;base64,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)"
      ],
      "metadata": {
        "id": "sozWo_NlbrUh"
      }
    },
    {
      "cell_type": "markdown",
      "source": [
        "----\n",
        "Vamos explorar um pouco mais a estruturação de um prompt:\n",
        "\n",
        "**Rules:**\n",
        "- **`developer`** ou **`system`**: São mensagens de instruções fornecidas pelo desenvolvedor do aplicativo, priorizadas antes das mensagens do usuário. As mensagens fornecem as regras e a lógica de negócios do sistema, como uma definição de função.\n",
        "\n",
        "- **`user`**: São mensagens de instruções fornecidas por um usuário final, priorizadas em relação às mensagens do desenvolvedor.\n",
        "\n",
        "- **`assistant`**: São as mensagens geradas pelo modelo. (função `assistant`)\n",
        "\n",
        "---\n",
        "\n",
        "Até agora apenas pedimos \"coisas\" para o modelo de LLM, não demos uma missão estruturada de análise, contexto e formatação de saída (resposta)."
      ],
      "metadata": {
        "id": "4mWOnfJhvXsv"
      }
    },
    {
      "cell_type": "markdown",
      "source": [
        "Vamos detalhar um pouco mais de como o modelo LLM pode fazer uma análise:"
      ],
      "metadata": {
        "id": "_vTqOcmKn9tX"
      }
    },
    {
      "cell_type": "code",
      "source": [
        "df_veiculos.head()"
      ],
      "metadata": {
        "colab": {
          "base_uri": "https://localhost:8080/",
          "height": 253
        },
        "id": "1gTQb0_jWAVn",
        "outputId": "589585da-ef09-414f-c104-fa7d8e3c3a09"
      },
      "execution_count": 28,
      "outputs": [
        {
          "output_type": "execute_result",
          "data": {
            "text/plain": [
              "   id_item id_seller item_date_create user_type_description  \\\n",
              "18  IT0021    SL7734       20/01/2025        concessionário   \n",
              "19  IT0029    SL7734       30/01/2025        concessionário   \n",
              "\n",
              "                               title_item  \\\n",
              "18  Fiat Argo 2022 - LIGUE JÁ 11987654321   \n",
              "19             Mustang GT (11) 98877-6655   \n",
              "\n",
              "                                     description_item detail_item brand_item  \\\n",
              "18  Carro super econômico, documentação ok. Para m...       hatch       Fiat   \n",
              "19  Ford Mustang GT V8, preto, 2019. Para mais inf...       sedan       Ford   \n",
              "\n",
              "   model_item  price_item  year_item  year_model_item state_item  \\\n",
              "18       Argo       75000       2022             2022         SP   \n",
              "19    Mustang      450000       2019             2019         SP   \n",
              "\n",
              "                                         address_item  \n",
              "18  Av. das Nações Unidas, 1000, São Paulo, 04578-907  \n",
              "19              Av. Europa, 500, São Paulo, 01449-000  "
            ],
            "text/html": [
              "\n",
              "  <div id=\"df-4f7a6057-9334-4058-b8e2-dfbd0f147b74\" class=\"colab-df-container\">\n",
              "    <div>\n",
              "<style scoped>\n",
              "    .dataframe tbody tr th:only-of-type {\n",
              "        vertical-align: middle;\n",
              "    }\n",
              "\n",
              "    .dataframe tbody tr th {\n",
              "        vertical-align: top;\n",
              "    }\n",
              "\n",
              "    .dataframe thead th {\n",
              "        text-align: right;\n",
              "    }\n",
              "</style>\n",
              "<table border=\"1\" class=\"dataframe\">\n",
              "  <thead>\n",
              "    <tr style=\"text-align: right;\">\n",
              "      <th></th>\n",
              "      <th>id_item</th>\n",
              "      <th>id_seller</th>\n",
              "      <th>item_date_create</th>\n",
              "      <th>user_type_description</th>\n",
              "      <th>title_item</th>\n",
              "      <th>description_item</th>\n",
              "      <th>detail_item</th>\n",
              "      <th>brand_item</th>\n",
              "      <th>model_item</th>\n",
              "      <th>price_item</th>\n",
              "      <th>year_item</th>\n",
              "      <th>year_model_item</th>\n",
              "      <th>state_item</th>\n",
              "      <th>address_item</th>\n",
              "    </tr>\n",
              "  </thead>\n",
              "  <tbody>\n",
              "    <tr>\n",
              "      <th>18</th>\n",
              "      <td>IT0021</td>\n",
              "      <td>SL7734</td>\n",
              "      <td>20/01/2025</td>\n",
              "      <td>concessionário</td>\n",
              "      <td>Fiat Argo 2022 - LIGUE JÁ 11987654321</td>\n",
              "      <td>Carro super econômico, documentação ok. Para m...</td>\n",
              "      <td>hatch</td>\n",
              "      <td>Fiat</td>\n",
              "      <td>Argo</td>\n",
              "      <td>75000</td>\n",
              "      <td>2022</td>\n",
              "      <td>2022</td>\n",
              "      <td>SP</td>\n",
              "      <td>Av. das Nações Unidas, 1000, São Paulo, 04578-907</td>\n",
              "    </tr>\n",
              "    <tr>\n",
              "      <th>19</th>\n",
              "      <td>IT0029</td>\n",
              "      <td>SL7734</td>\n",
              "      <td>30/01/2025</td>\n",
              "      <td>concessionário</td>\n",
              "      <td>Mustang GT (11) 98877-6655</td>\n",
              "      <td>Ford Mustang GT V8, preto, 2019. Para mais inf...</td>\n",
              "      <td>sedan</td>\n",
              "      <td>Ford</td>\n",
              "      <td>Mustang</td>\n",
              "      <td>450000</td>\n",
              "      <td>2019</td>\n",
              "      <td>2019</td>\n",
              "      <td>SP</td>\n",
              "      <td>Av. Europa, 500, São Paulo, 01449-000</td>\n",
              "    </tr>\n",
              "  </tbody>\n",
              "</table>\n",
              "</div>\n",
              "    <div class=\"colab-df-buttons\">\n",
              "\n",
              "  <div class=\"colab-df-container\">\n",
              "    <button class=\"colab-df-convert\" onclick=\"convertToInteractive('df-4f7a6057-9334-4058-b8e2-dfbd0f147b74')\"\n",
              "            title=\"Convert this dataframe to an interactive table.\"\n",
              "            style=\"display:none;\">\n",
              "\n",
              "  <svg xmlns=\"http://www.w3.org/2000/svg\" height=\"24px\" viewBox=\"0 -960 960 960\">\n",
              "    <path d=\"M120-120v-720h720v720H120Zm60-500h600v-160H180v160Zm220 220h160v-160H400v160Zm0 220h160v-160H400v160ZM180-400h160v-160H180v160Zm440 0h160v-160H620v160ZM180-180h160v-160H180v160Zm440 0h160v-160H620v160Z\"/>\n",
              "  </svg>\n",
              "    </button>\n",
              "\n",
              "  <style>\n",
              "    .colab-df-container {\n",
              "      display:flex;\n",
              "      gap: 12px;\n",
              "    }\n",
              "\n",
              "    .colab-df-convert {\n",
              "      background-color: #E8F0FE;\n",
              "      border: none;\n",
              "      border-radius: 50%;\n",
              "      cursor: pointer;\n",
              "      display: none;\n",
              "      fill: #1967D2;\n",
              "      height: 32px;\n",
              "      padding: 0 0 0 0;\n",
              "      width: 32px;\n",
              "    }\n",
              "\n",
              "    .colab-df-convert:hover {\n",
              "      background-color: #E2EBFA;\n",
              "      box-shadow: 0px 1px 2px rgba(60, 64, 67, 0.3), 0px 1px 3px 1px rgba(60, 64, 67, 0.15);\n",
              "      fill: #174EA6;\n",
              "    }\n",
              "\n",
              "    .colab-df-buttons div {\n",
              "      margin-bottom: 4px;\n",
              "    }\n",
              "\n",
              "    [theme=dark] .colab-df-convert {\n",
              "      background-color: #3B4455;\n",
              "      fill: #D2E3FC;\n",
              "    }\n",
              "\n",
              "    [theme=dark] .colab-df-convert:hover {\n",
              "      background-color: #434B5C;\n",
              "      box-shadow: 0px 1px 3px 1px rgba(0, 0, 0, 0.15);\n",
              "      filter: drop-shadow(0px 1px 2px rgba(0, 0, 0, 0.3));\n",
              "      fill: #FFFFFF;\n",
              "    }\n",
              "  </style>\n",
              "\n",
              "    <script>\n",
              "      const buttonEl =\n",
              "        document.querySelector('#df-4f7a6057-9334-4058-b8e2-dfbd0f147b74 button.colab-df-convert');\n",
              "      buttonEl.style.display =\n",
              "        google.colab.kernel.accessAllowed ? 'block' : 'none';\n",
              "\n",
              "      async function convertToInteractive(key) {\n",
              "        const element = document.querySelector('#df-4f7a6057-9334-4058-b8e2-dfbd0f147b74');\n",
              "        const dataTable =\n",
              "          await google.colab.kernel.invokeFunction('convertToInteractive',\n",
              "                                                    [key], {});\n",
              "        if (!dataTable) return;\n",
              "\n",
              "        const docLinkHtml = 'Like what you see? Visit the ' +\n",
              "          '<a target=\"_blank\" href=https://colab.research.google.com/notebooks/data_table.ipynb>data table notebook</a>'\n",
              "          + ' to learn more about interactive tables.';\n",
              "        element.innerHTML = '';\n",
              "        dataTable['output_type'] = 'display_data';\n",
              "        await google.colab.output.renderOutput(dataTable, element);\n",
              "        const docLink = document.createElement('div');\n",
              "        docLink.innerHTML = docLinkHtml;\n",
              "        element.appendChild(docLink);\n",
              "      }\n",
              "    </script>\n",
              "  </div>\n",
              "\n",
              "\n",
              "    <div id=\"df-9b7b2302-a02a-4452-a794-5bd57f448e4a\">\n",
              "      <button class=\"colab-df-quickchart\" onclick=\"quickchart('df-9b7b2302-a02a-4452-a794-5bd57f448e4a')\"\n",
              "                title=\"Suggest charts\"\n",
              "                style=\"display:none;\">\n",
              "\n",
              "<svg xmlns=\"http://www.w3.org/2000/svg\" height=\"24px\"viewBox=\"0 0 24 24\"\n",
              "     width=\"24px\">\n",
              "    <g>\n",
              "        <path d=\"M19 3H5c-1.1 0-2 .9-2 2v14c0 1.1.9 2 2 2h14c1.1 0 2-.9 2-2V5c0-1.1-.9-2-2-2zM9 17H7v-7h2v7zm4 0h-2V7h2v10zm4 0h-2v-4h2v4z\"/>\n",
              "    </g>\n",
              "</svg>\n",
              "      </button>\n",
              "\n",
              "<style>\n",
              "  .colab-df-quickchart {\n",
              "      --bg-color: #E8F0FE;\n",
              "      --fill-color: #1967D2;\n",
              "      --hover-bg-color: #E2EBFA;\n",
              "      --hover-fill-color: #174EA6;\n",
              "      --disabled-fill-color: #AAA;\n",
              "      --disabled-bg-color: #DDD;\n",
              "  }\n",
              "\n",
              "  [theme=dark] .colab-df-quickchart {\n",
              "      --bg-color: #3B4455;\n",
              "      --fill-color: #D2E3FC;\n",
              "      --hover-bg-color: #434B5C;\n",
              "      --hover-fill-color: #FFFFFF;\n",
              "      --disabled-bg-color: #3B4455;\n",
              "      --disabled-fill-color: #666;\n",
              "  }\n",
              "\n",
              "  .colab-df-quickchart {\n",
              "    background-color: var(--bg-color);\n",
              "    border: none;\n",
              "    border-radius: 50%;\n",
              "    cursor: pointer;\n",
              "    display: none;\n",
              "    fill: var(--fill-color);\n",
              "    height: 32px;\n",
              "    padding: 0;\n",
              "    width: 32px;\n",
              "  }\n",
              "\n",
              "  .colab-df-quickchart:hover {\n",
              "    background-color: var(--hover-bg-color);\n",
              "    box-shadow: 0 1px 2px rgba(60, 64, 67, 0.3), 0 1px 3px 1px rgba(60, 64, 67, 0.15);\n",
              "    fill: var(--button-hover-fill-color);\n",
              "  }\n",
              "\n",
              "  .colab-df-quickchart-complete:disabled,\n",
              "  .colab-df-quickchart-complete:disabled:hover {\n",
              "    background-color: var(--disabled-bg-color);\n",
              "    fill: var(--disabled-fill-color);\n",
              "    box-shadow: none;\n",
              "  }\n",
              "\n",
              "  .colab-df-spinner {\n",
              "    border: 2px solid var(--fill-color);\n",
              "    border-color: transparent;\n",
              "    border-bottom-color: var(--fill-color);\n",
              "    animation:\n",
              "      spin 1s steps(1) infinite;\n",
              "  }\n",
              "\n",
              "  @keyframes spin {\n",
              "    0% {\n",
              "      border-color: transparent;\n",
              "      border-bottom-color: var(--fill-color);\n",
              "      border-left-color: var(--fill-color);\n",
              "    }\n",
              "    20% {\n",
              "      border-color: transparent;\n",
              "      border-left-color: var(--fill-color);\n",
              "      border-top-color: var(--fill-color);\n",
              "    }\n",
              "    30% {\n",
              "      border-color: transparent;\n",
              "      border-left-color: var(--fill-color);\n",
              "      border-top-color: var(--fill-color);\n",
              "      border-right-color: var(--fill-color);\n",
              "    }\n",
              "    40% {\n",
              "      border-color: transparent;\n",
              "      border-right-color: var(--fill-color);\n",
              "      border-top-color: var(--fill-color);\n",
              "    }\n",
              "    60% {\n",
              "      border-color: transparent;\n",
              "      border-right-color: var(--fill-color);\n",
              "    }\n",
              "    80% {\n",
              "      border-color: transparent;\n",
              "      border-right-color: var(--fill-color);\n",
              "      border-bottom-color: var(--fill-color);\n",
              "    }\n",
              "    90% {\n",
              "      border-color: transparent;\n",
              "      border-bottom-color: var(--fill-color);\n",
              "    }\n",
              "  }\n",
              "</style>\n",
              "\n",
              "      <script>\n",
              "        async function quickchart(key) {\n",
              "          const quickchartButtonEl =\n",
              "            document.querySelector('#' + key + ' button');\n",
              "          quickchartButtonEl.disabled = true;  // To prevent multiple clicks.\n",
              "          quickchartButtonEl.classList.add('colab-df-spinner');\n",
              "          try {\n",
              "            const charts = await google.colab.kernel.invokeFunction(\n",
              "                'suggestCharts', [key], {});\n",
              "          } catch (error) {\n",
              "            console.error('Error during call to suggestCharts:', error);\n",
              "          }\n",
              "          quickchartButtonEl.classList.remove('colab-df-spinner');\n",
              "          quickchartButtonEl.classList.add('colab-df-quickchart-complete');\n",
              "        }\n",
              "        (() => {\n",
              "          let quickchartButtonEl =\n",
              "            document.querySelector('#df-9b7b2302-a02a-4452-a794-5bd57f448e4a button');\n",
              "          quickchartButtonEl.style.display =\n",
              "            google.colab.kernel.accessAllowed ? 'block' : 'none';\n",
              "        })();\n",
              "      </script>\n",
              "    </div>\n",
              "\n",
              "    </div>\n",
              "  </div>\n"
            ],
            "application/vnd.google.colaboratory.intrinsic+json": {
              "type": "dataframe",
              "variable_name": "df_veiculos",
              "repr_error": "0"
            }
          },
          "metadata": {},
          "execution_count": 28
        }
      ]
    },
    {
      "cell_type": "code",
      "source": [
        "# Converte os dados para o formato CSV\n",
        "dados_csv = df_veiculos.to_csv(index=False, sep='|')\n",
        "\n",
        "print(dados_csv)"
      ],
      "metadata": {
        "colab": {
          "base_uri": "https://localhost:8080/"
        },
        "id": "97kmoaC3qL6i",
        "outputId": "fae025e9-8d32-4ad4-e851-3b9a4afab829"
      },
      "execution_count": 29,
      "outputs": [
        {
          "output_type": "stream",
          "name": "stdout",
          "text": [
            "id_item|id_seller|item_date_create|user_type_description|title_item|description_item|detail_item|brand_item|model_item|price_item|year_item|year_model_item|state_item|address_item\n",
            "IT0021|SL7734|20/01/2025|concessionário|Fiat Argo 2022 - LIGUE JÁ 11987654321|Carro super econômico, documentação ok. Para mais detalhes, me chame no WhatsApp 11-98765-4321.|hatch|Fiat|Argo|75000|2022|2022|SP|Av. das Nações Unidas, 1000, São Paulo, 04578-907\n",
            "IT0029|SL7734|30/01/2025|concessionário|Mustang GT (11) 98877-6655|Ford Mustang GT V8, preto, 2019. Para mais informações, contato preferencial por WhatsApp.|sedan|Ford|Mustang|450000|2019|2019|SP|Av. Europa, 500, São Paulo, 01449-000\n",
            "\n"
          ]
        }
      ]
    },
    {
      "cell_type": "code",
      "source": [
        "# Exemplo do template da saída esperada\n",
        "{\"analise\":{\n",
        "      \"qtd_veiculos\":2,\n",
        "      \"descricao\":\"Resumo geral dos principais insights e padrões encontrados nos dados.\"},\n",
        "   \"veiculos\":[{\n",
        "         \"descricao_item\":\"Descrição do item destacando e organizando da seguinte forma: brand_item model_item - detail_item / year_model_item\",\n",
        "         \"resumo_item\":\"Breve resumo das principais características do veículo comsiderando as seguintes informações: title_item, description_item, price_item, state_item e address_item.\"},]\n",
        " }\n"
      ],
      "metadata": {
        "colab": {
          "base_uri": "https://localhost:8080/"
        },
        "id": "PThMqjxWWAac",
        "outputId": "2896b3db-d5a0-4a6c-f803-333cee23becc"
      },
      "execution_count": 30,
      "outputs": [
        {
          "output_type": "execute_result",
          "data": {
            "text/plain": [
              "{'analise': {'qtd_veiculos': 2,\n",
              "  'descricao': 'Resumo geral dos principais insights e padrões encontrados nos dados.'},\n",
              " 'veiculos': [{'descricao_item': 'Descrição do item destacando e organizando da seguinte forma: brand_item model_item - detail_item / year_model_item',\n",
              "   'resumo_item': 'Breve resumo das principais características do veículo comsiderando as seguintes informações: title_item, description_item, price_item, state_item e address_item.'}]}"
            ]
          },
          "metadata": {},
          "execution_count": 30
        }
      ]
    },
    {
      "cell_type": "code",
      "source": [
        "# Prompt mais estruturado\n",
        "prompt = [\n",
        "    {\n",
        "        \"role\": \"developer\",\n",
        "        \"content\": [\n",
        "            {\n",
        "                \"type\": \"input_text\",\n",
        "                \"text\": \"\"\"Você é um analista de dados e sua tarefa é analisar os dados abaixo e estruturar a informação em um formato JSON.\n",
        "                           - Estruture as informações nas tags 'veiculos' e 'analise' conforme o template e exemplo abaixo.\n",
        "                           - Não adicione explicações, responda **apenas** com o JSON.\n",
        "\n",
        "                           EXEMPLO DE RESPOSTA\n",
        "                           {\"analise\":{\n",
        "                                \"qtd_veiculos\":2,\n",
        "                                \"descricao\":\"Resumo geral dos principais insights e padrões encontrados nos dados.\"},\n",
        "                            \"veiculos\":[{\n",
        "                                  \"descricao_item\":\"Descrição do item destacando e organizando da seguinte forma: brand_item model_item - detail_item / year_model_item\",\n",
        "                                  \"resumo_item\":\"Breve resumo das principais características do veículo comsiderando as seguintes informações: title_item, description_item, price_item, state_item e address_item.\"},]}\n",
        "                        \"\"\"\n",
        "                  }\n",
        "            ]\n",
        "        },\n",
        "    {\n",
        "        \"role\": \"user\",\n",
        "        \"content\": [\n",
        "            {\n",
        "                \"type\": \"input_text\",\n",
        "                \"text\": f\"Segue os dados para análise:\\n{dados_csv}\"\n",
        "                },\n",
        "            ],\n",
        "        }\n",
        "    ]\n",
        "\n",
        "prompt"
      ],
      "metadata": {
        "colab": {
          "base_uri": "https://localhost:8080/"
        },
        "id": "ZDSYeMmEZmdC",
        "outputId": "c828cbde-f836-43b0-cd8a-6a6d38cba833"
      },
      "execution_count": 31,
      "outputs": [
        {
          "output_type": "execute_result",
          "data": {
            "text/plain": [
              "[{'role': 'developer',\n",
              "  'content': [{'type': 'input_text',\n",
              "    'text': 'Você é um analista de dados e sua tarefa é analisar os dados abaixo e estruturar a informação em um formato JSON.\\n                           - Estruture as informações nas tags \\'veiculos\\' e \\'analise\\' conforme o template e exemplo abaixo.\\n                           - Não adicione explicações, responda **apenas** com o JSON.\\n                           \\n                           EXEMPLO DE RESPOSTA\\n                           {\"analise\":{\\n                                \"qtd_veiculos\":2,\\n                                \"descricao\":\"Resumo geral dos principais insights e padrões encontrados nos dados.\"},\\n                            \"veiculos\":[{\\n                                  \"descricao_item\":\"Descrição do item destacando e organizando da seguinte forma: brand_item model_item - detail_item / year_model_item\",\\n                                  \"resumo_item\":\"Breve resumo das principais características do veículo comsiderando as seguintes informações: title_item, description_item, price_item, state_item e address_item.\"},]}\\n                        '}]},\n",
              " {'role': 'user',\n",
              "  'content': [{'type': 'input_text',\n",
              "    'text': 'Segue os dados para análise:\\nid_item|id_seller|item_date_create|user_type_description|title_item|description_item|detail_item|brand_item|model_item|price_item|year_item|year_model_item|state_item|address_item\\nIT0021|SL7734|20/01/2025|concessionário|Fiat Argo 2022 - LIGUE JÁ 11987654321|Carro super econômico, documentação ok. Para mais detalhes, me chame no WhatsApp 11-98765-4321.|hatch|Fiat|Argo|75000|2022|2022|SP|Av. das Nações Unidas, 1000, São Paulo, 04578-907\\nIT0029|SL7734|30/01/2025|concessionário|Mustang GT (11) 98877-6655|Ford Mustang GT V8, preto, 2019. Para mais informações, contato preferencial por WhatsApp.|sedan|Ford|Mustang|450000|2019|2019|SP|Av. Europa, 500, São Paulo, 01449-000\\n'}]}]"
            ]
          },
          "metadata": {},
          "execution_count": 31
        }
      ]
    },
    {
      "cell_type": "code",
      "source": [
        "# Valide a estrutura do prompt\n",
        "import json\n",
        "\n",
        "type(prompt)\n",
        "print(json.dumps(prompt))"
      ],
      "metadata": {
        "colab": {
          "base_uri": "https://localhost:8080/"
        },
        "id": "hJtnpb5lZmSr",
        "outputId": "7551c8c1-4b3b-4a59-95a8-348491828d02"
      },
      "execution_count": 35,
      "outputs": [
        {
          "output_type": "stream",
          "name": "stdout",
          "text": [
            "[{\"role\": \"developer\", \"content\": [{\"type\": \"input_text\", \"text\": \"Voc\\u00ea \\u00e9 um analista de dados e sua tarefa \\u00e9 analisar os dados abaixo e estruturar a informa\\u00e7\\u00e3o em um formato JSON.\\n                           - Estruture as informa\\u00e7\\u00f5es nas tags 'veiculos' e 'analise' conforme o template e exemplo abaixo.\\n                           - N\\u00e3o adicione explica\\u00e7\\u00f5es, responda **apenas** com o JSON.\\n                           \\n                           EXEMPLO DE RESPOSTA\\n                           {\\\"analise\\\":{\\n                                \\\"qtd_veiculos\\\":2,\\n                                \\\"descricao\\\":\\\"Resumo geral dos principais insights e padr\\u00f5es encontrados nos dados.\\\"},\\n                            \\\"veiculos\\\":[{\\n                                  \\\"descricao_item\\\":\\\"Descri\\u00e7\\u00e3o do item destacando e organizando da seguinte forma: brand_item model_item - detail_item / year_model_item\\\",\\n                                  \\\"resumo_item\\\":\\\"Breve resumo das principais caracter\\u00edsticas do ve\\u00edculo comsiderando as seguintes informa\\u00e7\\u00f5es: title_item, description_item, price_item, state_item e address_item.\\\"},]}\\n                        \"}]}, {\"role\": \"user\", \"content\": [{\"type\": \"input_text\", \"text\": \"Segue os dados para an\\u00e1lise:\\nid_item|id_seller|item_date_create|user_type_description|title_item|description_item|detail_item|brand_item|model_item|price_item|year_item|year_model_item|state_item|address_item\\nIT0021|SL7734|20/01/2025|concession\\u00e1rio|Fiat Argo 2022 - LIGUE J\\u00c1 11987654321|Carro super econ\\u00f4mico, documenta\\u00e7\\u00e3o ok. Para mais detalhes, me chame no WhatsApp 11-98765-4321.|hatch|Fiat|Argo|75000|2022|2022|SP|Av. das Na\\u00e7\\u00f5es Unidas, 1000, S\\u00e3o Paulo, 04578-907\\nIT0029|SL7734|30/01/2025|concession\\u00e1rio|Mustang GT (11) 98877-6655|Ford Mustang GT V8, preto, 2019. Para mais informa\\u00e7\\u00f5es, contato preferencial por WhatsApp.|sedan|Ford|Mustang|450000|2019|2019|SP|Av. Europa, 500, S\\u00e3o Paulo, 01449-000\\n\"}]}]\n"
          ]
        }
      ]
    },
    {
      "cell_type": "code",
      "source": [
        "# Chamada da LLM com o Prompt mais estruturado\n",
        "from openai import OpenAI\n",
        "\n",
        "client = OpenAI(\n",
        "    api_key=OPENAI_API_KEY\n",
        ")\n",
        "\n",
        "response = client.responses.create(\n",
        "    model = \"gpt-4.1-mini\",\n",
        "    temperature = 0.5,\n",
        "    input = prompt\n",
        ")\n",
        "\n",
        "print(response.output_text)"
      ],
      "metadata": {
        "colab": {
          "base_uri": "https://localhost:8080/"
        },
        "id": "ZHVuz8QSZmIN",
        "outputId": "6f31921d-12e3-4bd7-d16b-62d2eefbc0a1"
      },
      "execution_count": 36,
      "outputs": [
        {
          "output_type": "stream",
          "name": "stdout",
          "text": [
            "{\n",
            "  \"analise\": {\n",
            "    \"qtd_veiculos\": 2,\n",
            "    \"descricao\": \"Foram analisados dois veículos disponíveis em São Paulo, ambos vendidos por concessionário. O Fiat Argo 2022 é um hatch econômico com preço acessível, enquanto o Ford Mustang GT 2019 é um sedan potente e mais caro, indicando diferentes perfis de compra.\"\n",
            "  },\n",
            "  \"veiculos\": [\n",
            "    {\n",
            "      \"descricao_item\": \"Fiat Argo - hatch / 2022\",\n",
            "      \"resumo_item\": \"Fiat Argo 2022 hatch, carro super econômico com documentação em ordem, anunciado por concessionário em SP, localizado na Av. das Nações Unidas, 1000. Preço de R$ 75.000.\"\n",
            "    },\n",
            "    {\n",
            "      \"descricao_item\": \"Ford Mustang - sedan / 2019\",\n",
            "      \"resumo_item\": \"Ford Mustang GT 2019 sedan preto com motor V8, anunciado por concessionário em SP, localizado na Av. Europa, 500. Preço de R$ 450.000, contato preferencial por WhatsApp.\"\n",
            "    }\n",
            "  ]\n",
            "}\n"
          ]
        }
      ]
    },
    {
      "cell_type": "code",
      "source": [
        "print(f\"Retorno completo do LLM: \\n{response.to_json()}\")"
      ],
      "metadata": {
        "colab": {
          "base_uri": "https://localhost:8080/"
        },
        "id": "teTl2JvAWARG",
        "outputId": "150918eb-74a5-4caf-e427-517aacf92a58"
      },
      "execution_count": 37,
      "outputs": [
        {
          "output_type": "stream",
          "name": "stdout",
          "text": [
            "Retorno completo do LLM: \n",
            "{\n",
            "  \"id\": \"resp_68ae0aa22ea08192a996ec8a48f4618b0e4e7e96b04127ae\",\n",
            "  \"created_at\": 1756236450.0,\n",
            "  \"error\": null,\n",
            "  \"incomplete_details\": null,\n",
            "  \"instructions\": null,\n",
            "  \"metadata\": {},\n",
            "  \"model\": \"gpt-4.1-mini-2025-04-14\",\n",
            "  \"object\": \"response\",\n",
            "  \"output\": [\n",
            "    {\n",
            "      \"id\": \"msg_68ae0aa2917881929bc7907f92616baa0e4e7e96b04127ae\",\n",
            "      \"content\": [\n",
            "        {\n",
            "          \"annotations\": [],\n",
            "          \"text\": \"{\\n  \\\"analise\\\": {\\n    \\\"qtd_veiculos\\\": 2,\\n    \\\"descricao\\\": \\\"Foram analisados dois veículos disponíveis em São Paulo, ambos vendidos por concessionário. O Fiat Argo 2022 é um hatch econômico com preço acessível, enquanto o Ford Mustang GT 2019 é um sedan potente e mais caro, indicando diferentes perfis de compra.\\\"\\n  },\\n  \\\"veiculos\\\": [\\n    {\\n      \\\"descricao_item\\\": \\\"Fiat Argo - hatch / 2022\\\",\\n      \\\"resumo_item\\\": \\\"Fiat Argo 2022 hatch, carro super econômico com documentação em ordem, anunciado por concessionário em SP, localizado na Av. das Nações Unidas, 1000. Preço de R$ 75.000.\\\"\\n    },\\n    {\\n      \\\"descricao_item\\\": \\\"Ford Mustang - sedan / 2019\\\",\\n      \\\"resumo_item\\\": \\\"Ford Mustang GT 2019 sedan preto com motor V8, anunciado por concessionário em SP, localizado na Av. Europa, 500. Preço de R$ 450.000, contato preferencial por WhatsApp.\\\"\\n    }\\n  ]\\n}\",\n",
            "          \"type\": \"output_text\",\n",
            "          \"logprobs\": []\n",
            "        }\n",
            "      ],\n",
            "      \"role\": \"assistant\",\n",
            "      \"status\": \"completed\",\n",
            "      \"type\": \"message\"\n",
            "    }\n",
            "  ],\n",
            "  \"parallel_tool_calls\": true,\n",
            "  \"temperature\": 0.5,\n",
            "  \"tool_choice\": \"auto\",\n",
            "  \"tools\": [],\n",
            "  \"top_p\": 1.0,\n",
            "  \"background\": false,\n",
            "  \"max_output_tokens\": null,\n",
            "  \"max_tool_calls\": null,\n",
            "  \"previous_response_id\": null,\n",
            "  \"prompt_cache_key\": null,\n",
            "  \"reasoning\": {\n",
            "    \"effort\": null,\n",
            "    \"summary\": null\n",
            "  },\n",
            "  \"safety_identifier\": null,\n",
            "  \"service_tier\": \"default\",\n",
            "  \"status\": \"completed\",\n",
            "  \"text\": {\n",
            "    \"format\": {\n",
            "      \"type\": \"text\"\n",
            "    },\n",
            "    \"verbosity\": \"medium\"\n",
            "  },\n",
            "  \"top_logprobs\": 0,\n",
            "  \"truncation\": \"disabled\",\n",
            "  \"usage\": {\n",
            "    \"input_tokens\": 440,\n",
            "    \"input_tokens_details\": {\n",
            "      \"cached_tokens\": 0\n",
            "    },\n",
            "    \"output_tokens\": 238,\n",
            "    \"output_tokens_details\": {\n",
            "      \"reasoning_tokens\": 0\n",
            "    },\n",
            "    \"total_tokens\": 678\n",
            "  },\n",
            "  \"user\": null,\n",
            "  \"store\": true\n",
            "}\n"
          ]
        }
      ]
    },
    {
      "cell_type": "code",
      "source": [
        "response_json = json.loads(response.output_text)\n",
        "print(type(response_json))\n",
        "display(response_json)"
      ],
      "metadata": {
        "colab": {
          "base_uri": "https://localhost:8080/",
          "height": 191
        },
        "id": "5bXeBf2sta-r",
        "outputId": "16d948e4-c2e2-46dd-8027-c2788ae2949c"
      },
      "execution_count": 38,
      "outputs": [
        {
          "output_type": "stream",
          "name": "stdout",
          "text": [
            "<class 'dict'>\n"
          ]
        },
        {
          "output_type": "display_data",
          "data": {
            "text/plain": [
              "{'analise': {'qtd_veiculos': 2,\n",
              "  'descricao': 'Foram analisados dois veículos disponíveis em São Paulo, ambos vendidos por concessionário. O Fiat Argo 2022 é um hatch econômico com preço acessível, enquanto o Ford Mustang GT 2019 é um sedan potente e mais caro, indicando diferentes perfis de compra.'},\n",
              " 'veiculos': [{'descricao_item': 'Fiat Argo - hatch / 2022',\n",
              "   'resumo_item': 'Fiat Argo 2022 hatch, carro super econômico com documentação em ordem, anunciado por concessionário em SP, localizado na Av. das Nações Unidas, 1000. Preço de R$ 75.000.'},\n",
              "  {'descricao_item': 'Ford Mustang - sedan / 2019',\n",
              "   'resumo_item': 'Ford Mustang GT 2019 sedan preto com motor V8, anunciado por concessionário em SP, localizado na Av. Europa, 500. Preço de R$ 450.000, contato preferencial por WhatsApp.'}]}"
            ]
          },
          "metadata": {}
        }
      ]
    },
    {
      "cell_type": "code",
      "source": [
        "response_json['analise']\n",
        "response_json['analise']['qtd_veiculos']\n",
        "response_json['veiculos'][0]"
      ],
      "metadata": {
        "colab": {
          "base_uri": "https://localhost:8080/"
        },
        "id": "92cxkXefta5x",
        "outputId": "6ae2ab71-0906-49b1-d584-3035535db20e"
      },
      "execution_count": 39,
      "outputs": [
        {
          "output_type": "execute_result",
          "data": {
            "text/plain": [
              "{'descricao_item': 'Fiat Argo - hatch / 2022',\n",
              " 'resumo_item': 'Fiat Argo 2022 hatch, carro super econômico com documentação em ordem, anunciado por concessionário em SP, localizado na Av. das Nações Unidas, 1000. Preço de R$ 75.000.'}"
            ]
          },
          "metadata": {},
          "execution_count": 39
        }
      ]
    },
    {
      "cell_type": "code",
      "source": [],
      "metadata": {
        "id": "gZym0uletawE"
      },
      "execution_count": null,
      "outputs": []
    },
    {
      "cell_type": "markdown",
      "source": [
        "####2.2 - Estruturação com método de Parse"
      ],
      "metadata": {
        "id": "k4-7E6ibxti2"
      }
    },
    {
      "cell_type": "markdown",
      "source": [
        "\n",
        "Forçando a formatação de saída por função com o método Parse:"
      ],
      "metadata": {
        "id": "pw2UARViu0ro"
      }
    },
    {
      "cell_type": "code",
      "source": [
        "from typing import List\n",
        "from pydantic import BaseModel\n",
        "\n",
        "class Analise(BaseModel):\n",
        "    qtd_veiculos: int\n",
        "    descricao: str\n",
        "\n",
        "class Veiculo(BaseModel):\n",
        "    descricao_item: str\n",
        "    resumo_item: str\n",
        "\n",
        "class SaidaAnalise(BaseModel):\n",
        "    analise: Analise\n",
        "    veiculos: List[Veiculo]\n"
      ],
      "metadata": {
        "id": "gz2ABko_u0rp"
      },
      "execution_count": 40,
      "outputs": []
    },
    {
      "cell_type": "code",
      "source": [
        "# Menos criativo e mais direto\n",
        "from openai import OpenAI\n",
        "\n",
        "client = OpenAI(\n",
        "    api_key=OPENAI_API_KEY\n",
        ")\n",
        "\n",
        "response = client.responses.parse(\n",
        "    model = \"gpt-4.1-mini\",\n",
        "    input = prompt,\n",
        "    text_format = SaidaAnalise,\n",
        ")\n",
        "\n",
        "print(response.output_parsed)"
      ],
      "metadata": {
        "colab": {
          "base_uri": "https://localhost:8080/"
        },
        "id": "sz6qBpWUwZ9p",
        "outputId": "af14ce2c-c1c2-485a-9a32-3b3b07f11b7d"
      },
      "execution_count": 41,
      "outputs": [
        {
          "output_type": "stream",
          "name": "stdout",
          "text": [
            "analise=Analise(qtd_veiculos=2, descricao='Foram identificados 2 veículos disponíveis por concessionário no estado de SP, ambos com detalhes de contato para venda rápida via WhatsApp. Os modelos são Fiat Argo 2022 com preço acessível e Mustang GT 2019 de alta performance e preço elevado.') veiculos=[Veiculo(descricao_item='Fiat Argo - hatch / 2022', resumo_item='Fiat Argo 2022 hatch, carro econômico com documentação em ordem, disponível por R$75000 em São Paulo, Av. das Nações Unidas, 1000.'), Veiculo(descricao_item='Ford Mustang - sedan / 2019', resumo_item='Ford Mustang GT 2019 sedan, motor V8, cor preta, preço de R$450000, localizado em São Paulo, Av. Europa, 500.')]\n"
          ]
        }
      ]
    },
    {
      "cell_type": "code",
      "source": [
        "type(response.output_parsed)"
      ],
      "metadata": {
        "colab": {
          "base_uri": "https://localhost:8080/",
          "height": 186
        },
        "id": "t2dQD_vUxPmj",
        "outputId": "33d3f35f-787b-4a0f-e509-d288c0ffbdb1"
      },
      "execution_count": 42,
      "outputs": [
        {
          "output_type": "execute_result",
          "data": {
            "text/plain": [
              "__main__.SaidaAnalise"
            ],
            "text/html": [
              "<div style=\"max-width:800px; border: 1px solid var(--colab-border-color);\"><style>\n",
              "      pre.function-repr-contents {\n",
              "        overflow-x: auto;\n",
              "        padding: 8px 12px;\n",
              "        max-height: 500px;\n",
              "      }\n",
              "\n",
              "      pre.function-repr-contents.function-repr-contents-collapsed {\n",
              "        cursor: pointer;\n",
              "        max-height: 100px;\n",
              "      }\n",
              "    </style>\n",
              "    <pre style=\"white-space: initial; background:\n",
              "         var(--colab-secondary-surface-color); padding: 8px 12px;\n",
              "         border-bottom: 1px solid var(--colab-border-color);\"><b>SaidaAnalise</b><br/>def __init__(self, /, **data: Any) -&gt; None</pre><pre class=\"function-repr-contents function-repr-contents-collapsed\" style=\"\"><a class=\"filepath\" style=\"display:none\" href=\"#\"></a>!!! abstract &quot;Usage Documentation&quot;\n",
              "    [Models](../concepts/models.md)\n",
              "\n",
              "A base class for creating Pydantic models.\n",
              "\n",
              "Attributes:\n",
              "    __class_vars__: The names of the class variables defined on the model.\n",
              "    __private_attributes__: Metadata about the private attributes of the model.\n",
              "    __signature__: The synthesized `__init__` [`Signature`][inspect.Signature] of the model.\n",
              "\n",
              "    __pydantic_complete__: Whether model building is completed, or if there are still undefined fields.\n",
              "    __pydantic_core_schema__: The core schema of the model.\n",
              "    __pydantic_custom_init__: Whether the model has a custom `__init__` function.\n",
              "    __pydantic_decorators__: Metadata containing the decorators defined on the model.\n",
              "        This replaces `Model.__validators__` and `Model.__root_validators__` from Pydantic V1.\n",
              "    __pydantic_generic_metadata__: Metadata for generic models; contains data used for a similar purpose to\n",
              "        __args__, __origin__, __parameters__ in typing-module generics. May eventually be replaced by these.\n",
              "    __pydantic_parent_namespace__: Parent namespace of the model, used for automatic rebuilding of models.\n",
              "    __pydantic_post_init__: The name of the post-init method for the model, if defined.\n",
              "    __pydantic_root_model__: Whether the model is a [`RootModel`][pydantic.root_model.RootModel].\n",
              "    __pydantic_serializer__: The `pydantic-core` `SchemaSerializer` used to dump instances of the model.\n",
              "    __pydantic_validator__: The `pydantic-core` `SchemaValidator` used to validate instances of the model.\n",
              "\n",
              "    __pydantic_fields__: A dictionary of field names and their corresponding [`FieldInfo`][pydantic.fields.FieldInfo] objects.\n",
              "    __pydantic_computed_fields__: A dictionary of computed field names and their corresponding [`ComputedFieldInfo`][pydantic.fields.ComputedFieldInfo] objects.\n",
              "\n",
              "    __pydantic_extra__: A dictionary containing extra values, if [`extra`][pydantic.config.ConfigDict.extra]\n",
              "        is set to `&#x27;allow&#x27;`.\n",
              "    __pydantic_fields_set__: The names of fields explicitly set during instantiation.\n",
              "    __pydantic_private__: Values of private attributes set on the model instance.</pre></div>"
            ]
          },
          "metadata": {},
          "execution_count": 42
        }
      ]
    },
    {
      "cell_type": "code",
      "source": [
        "# Converte o objeto parse para json\n",
        "response_json = response.output_parsed.model_dump()\n",
        "type(response_json)\n",
        "#print(response_json)\n",
        "response_json"
      ],
      "metadata": {
        "colab": {
          "base_uri": "https://localhost:8080/"
        },
        "outputId": "f5c078c8-178d-4e43-a196-261b4878ce99",
        "id": "w6bGvS-Lu0rp"
      },
      "execution_count": 44,
      "outputs": [
        {
          "output_type": "execute_result",
          "data": {
            "text/plain": [
              "{'analise': {'qtd_veiculos': 2,\n",
              "  'descricao': 'Foram identificados 2 veículos disponíveis por concessionário no estado de SP, ambos com detalhes de contato para venda rápida via WhatsApp. Os modelos são Fiat Argo 2022 com preço acessível e Mustang GT 2019 de alta performance e preço elevado.'},\n",
              " 'veiculos': [{'descricao_item': 'Fiat Argo - hatch / 2022',\n",
              "   'resumo_item': 'Fiat Argo 2022 hatch, carro econômico com documentação em ordem, disponível por R$75000 em São Paulo, Av. das Nações Unidas, 1000.'},\n",
              "  {'descricao_item': 'Ford Mustang - sedan / 2019',\n",
              "   'resumo_item': 'Ford Mustang GT 2019 sedan, motor V8, cor preta, preço de R$450000, localizado em São Paulo, Av. Europa, 500.'}]}"
            ]
          },
          "metadata": {},
          "execution_count": 44
        }
      ]
    },
    {
      "cell_type": "markdown",
      "source": [
        "O **pydantic** é uma biblioteca em Python para validação de dados e análise de dados baseada em anotações de tipo.\n",
        "\n",
        "A classe **`BaseModel`** é usada para definir modelos de dados, podemos criar classes personalizadas que especificam a estrutura e os tipos de dados esperados para os objetos."
      ],
      "metadata": {
        "id": "xhOIrIMsu0rp"
      }
    },
    {
      "cell_type": "code",
      "source": [
        "response_parsed = response.output_parsed\n",
        "print(response_parsed.analise.descricao)\n",
        "\n",
        "for veiculo in response_parsed.veiculos:\n",
        "    print(veiculo.descricao_item)"
      ],
      "metadata": {
        "colab": {
          "base_uri": "https://localhost:8080/"
        },
        "outputId": "bbcc4a59-04fc-4a88-930e-e07d5595426f",
        "id": "zzSmy0inu0rq"
      },
      "execution_count": 92,
      "outputs": [
        {
          "output_type": "stream",
          "name": "stdout",
          "text": [
            "Foram analisados 2 veículos de concessionário localizados no estado de São Paulo. Os modelos são um Fiat Argo hatch 2022 e um Ford Mustang GT sedan 2019, com preços que variam entre 75.000 e 450.000 reais, apresentando características distintas de mercado e público-alvo.\n",
            "Fiat Argo - hatch / 2022\n",
            "Ford Mustang GT - sedan / 2019\n"
          ]
        }
      ]
    },
    {
      "cell_type": "markdown",
      "source": [
        "**`client.responses.parse()`:**\n",
        "\n",
        "É um método para chamar a API da OpenAI e, ao mesmo tempo, converter a resposta gerada diretamente para um objeto Python tipado, usando um modelo do Pydantic.\n",
        "\n",
        "Ou seja, ela combina:\n",
        "- A chamada à API para gerar texto (ou multimodal).\n",
        "- A conversão automática da resposta textual em um objeto Python estruturado e validado, seguindo o esquema que você definiu."
      ],
      "metadata": {
        "id": "LSx-TzH_u0rq"
      }
    },
    {
      "cell_type": "markdown",
      "source": [
        "Para usar o `client.responses.parse()` com o **Pydantic**, é muito importante que seu prompt instrua o modelo a responder no formato JSON esperado — assim o parsing funciona melhor, pois a resposta é validada e convertida em objeto Python diretamente. Porém isso não evita erros!!!"
      ],
      "metadata": {
        "id": "ZQZAsRNFu0rq"
      }
    },
    {
      "cell_type": "markdown",
      "source": [
        "Referências / Documentações:\n",
        "- [Structured model outputs](https://platform.openai.com/docs/guides/structured-outputs)\n",
        "- [Pydantic](https://docs.pydantic.dev/latest/)\n"
      ],
      "metadata": {
        "id": "wnG7Avgl2wcK"
      }
    },
    {
      "cell_type": "markdown",
      "source": [
        "##**Desafios**"
      ],
      "metadata": {
        "id": "NbiueTkv4pQ2"
      }
    },
    {
      "cell_type": "markdown",
      "source": [
        "###**Cenário do caso de uso - Marketplace de classificados veículos**"
      ],
      "metadata": {
        "id": "zE75yb3C4pQ2"
      }
    },
    {
      "cell_type": "markdown",
      "source": [
        "Contexto:\n",
        "- Sua empresa oferece um serviço (site) de classificados de veículos (semelhantes aos marketplaces convencionais, mas focado em vendas de veículos), onde os vendedores (sellers) podem cadastrar e anunciar seus veículos e compradores (buyers) podem buscar veículos de seu interesse e contatar os vendedores para negociar os veículos de seu interesse.\n",
        "- Veja mais detalhes do documento de [Quem Somos e Políticas de Uso](https://drive.google.com/file/d/1-ZpUOl8OA4lxa8CJ6auT42hSxaF3jclk) (em PDF).\n",
        "\n",
        "Políticas de uso:\n",
        "- Os veículos permitidos na plataforma são:\n",
        "  - De passageiros: automóveis (tipo: sedan, hatch, SUV, picape, minivan), micro-ônibus, ônibus, motonetas, motocicletas, triciclos e quadriciclos.\n",
        "  - De carga: utilitários, caminhões e camionetas.\n",
        "  - São permitidos veículos com motorização a combustão, elétricos e híbridos.\n",
        "\n",
        "- Veículos não permitidos na plataforma:\n",
        " - Veículos como: especiais, competição, tratores, bicicletas, reboques, semirreboques, charretes, ciclomotores, carroças, bondes, karts, motocross, etc., não são permitidos na plataforma.\n",
        "\n",
        "- Regras de uso:\n",
        "  - Não é permitido divulgar fotos ou descrição com números de celular, telefone, whatsapp, endereço de e-mail, endereço de localização ou qualquer outra informação que permita a localização e contato que não seja liberado pela plataforma.\n",
        "  - Informações como a marca, nome do vendedor, logotipo e nome da concessionária são permitidas.\n",
        "\n",
        "- Observações gerais:\n",
        "  - Ciclomotores são veículos de duas ou três rodas, equipados com motor de combustão interna ou elétrico, com cilindrada não superior a 50 cm³ (ou potência elétrica equivalente) e velocidade máxima de fabricação de até 50 km/h.\n",
        "  - Especial: Veículos como ambulâncias, carros funerários, guindastes, etc.\n",
        "  - Competição: carros de corrida, karts, motocross, etc.\n",
        "\n",
        "Cenário:\n",
        "- Como membro do time de prevenção a fraude somos responsáveis por analisar e tratar casos de fraude e uso indevido que infringem as políticas de uso dos serviços e da plataforma.\n",
        "\n",
        "- Diariamente são muitos casos para analisar e fazer análises dos anúncios, das fotos, do comportamento dos usuários manualmente é inviável. **Será que a IA Generativa e modelos LLMs podem nos ajudar?**"
      ],
      "metadata": {
        "id": "IGuaGvRI4pQ2"
      }
    },
    {
      "cell_type": "markdown",
      "source": [
        "### Desafio 1:"
      ],
      "metadata": {
        "id": "Bxz-9Mf54pQ3"
      }
    },
    {
      "cell_type": "markdown",
      "source": [
        "Existem anúncios que não seguem as políticas de uso da plataforma e esses vendedores (sellers) precisam ser identificados para que possamos tomar uma ação.\n",
        "\n",
        "**Dicas:**\n",
        "- No dia a dia não vamos ter a marcação de **item suspeito**, então não use essa informação no seu prompt.\n",
        "- Comece as análises com poucos casos, vá testando passo por passo e ajustando o seu prompt gradativamente."
      ],
      "metadata": {
        "id": "YyBSkHib4pQ3"
      }
    },
    {
      "cell_type": "markdown",
      "source": [
        "##### 1.1 - Carregue os dados da tabela [**base_itens**](https://docs.google.com/spreadsheets/d/1-ISE6Z3ra8dKnpqe2GLh1oCxnLcp5i0d1Izd8iQpA1Y) e faça uma análise exploratória inicial para entender quais os comportamentos que estão infringindo as regras de uso e de publicações.\n",
        "\n",
        "**[base_itens]** - https://docs.google.com/spreadsheets/d/1-ISE6Z3ra8dKnpqe2GLh1oCxnLcp5i0d1Izd8iQpA1Y"
      ],
      "metadata": {
        "id": "L9dh51914pQ3"
      }
    },
    {
      "cell_type": "code",
      "source": [
        "# Resposta"
      ],
      "metadata": {
        "id": "HMAWWV6H4pQ3"
      },
      "execution_count": null,
      "outputs": []
    },
    {
      "cell_type": "markdown",
      "source": [
        "##### 1.2 - Agora, crie uma função usando os serviços da OpenAI e um modelo LLMs para analisar o título e a descrição dos itens e identificar quais itens possuem dados de contato. Essa função deve receber um texto e retornar uma resposta com a analise do caso.\n",
        "\n",
        "  - Utilize a geração de texto simples concatenando o título e descrição (crie uma nova coluna **`texto`**).\n",
        "  - Use as técnicas de prompt engineering para estruturar seu prompt.\n",
        "  - Baseie-se no contexto acima e/ou o PDF de Quem Somos para criar o prompt e validar as regras.  \n",
        "  - Solicite um resultado específico formantando a saída em JSON (suspeito/não suspeito).\n",
        "  - Salve a analise de cada item no dataframe criando uma coluna **`anl_suspeito`**.\n",
        "\n",
        "**Dicas:**\n",
        "- Não carregue o PDF no Prompt (vamos explorar isso mais para frente).\n",
        "- Desenvolta o Prompt com base nas regras do enunciado e no contexto do PDF.\n",
        "- Para aplicar o resultado no dataframe utilize a função/método [**`apply()`** do Pandas](https://pandas.pydata.org/docs/reference/api/pandas.DataFrame.apply.html)."
      ],
      "metadata": {
        "id": "AkIJ4rCW4pQ4"
      }
    },
    {
      "cell_type": "code",
      "source": [
        "# Resposta"
      ],
      "metadata": {
        "id": "2PSZuGPL4pQ4"
      },
      "execution_count": null,
      "outputs": []
    },
    {
      "cell_type": "code",
      "source": [
        "# Exemplo do texto\n",
        "texto = \"Reboque Carretinha - Ver Preço\tReboque para transporte de veículos leves, em bom estado. Contato via e-mail para negociar: joao.vendas@email.net\""
      ],
      "metadata": {
        "id": "gG30jdT94oWU"
      },
      "execution_count": null,
      "outputs": []
    },
    {
      "cell_type": "markdown",
      "source": [
        "###Desafio 2 - EXTRA:"
      ],
      "metadata": {
        "id": "TXCLp8CoFZH1"
      }
    },
    {
      "cell_type": "markdown",
      "source": [
        "#####2.1 - Crie um processo (função) para analisar se o item Infringe alguma regra de publicação do Marketiplace.\n",
        "\n",
        "```\n",
        "Por exemplo: Se o item for um veículo especial (ambulância, funerário ou guindaste),\n",
        "ele não é permitido na plataforma e a analise deve sinalizar que esse item é suspeito.\n",
        "```\n",
        "\n",
        "  - Analise os casos de forma independente, pois pode aumentar a efetividade do modelo.\n",
        "  - Ajuste seu prompt para incluir uma coluna de justificativa, ou seja, peça para o LLM justificar a decisão e inclua na análise final.\n",
        "  - Utilize a técnica para transformar o dataframe em CSV (texto) no prompt.\n",
        "  - Estrure a resposta do prompt para um formato JSON, com as tags: flg_suspeito_genai e comentario_genai,\n",
        "  - Salve seu resultado no dataframe inicial para comparar o resultado.\n",
        "  - Compare seu resultado com a marcação de item suspeito (flg_suspeito).  \n",
        "  - Para evitar custos desnecessários, uma dica seria fazer um sample(5, random_state=42) no dataframe.\n",
        "\n",
        "**Dicas:**\n",
        "- Verifique se todos os dados (colunas) serão necessários para a análise."
      ],
      "metadata": {
        "id": "6o8nFDUp9pPZ"
      }
    },
    {
      "cell_type": "code",
      "source": [
        "# Resposta"
      ],
      "metadata": {
        "id": "6NLIRF-_FQz5"
      },
      "execution_count": null,
      "outputs": []
    }
  ]
}